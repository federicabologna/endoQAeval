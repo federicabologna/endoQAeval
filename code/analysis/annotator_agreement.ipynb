{
 "cells": [
  {
   "cell_type": "code",
   "execution_count": 1,
   "metadata": {},
   "outputs": [
    {
     "name": "stdout",
     "output_type": "stream",
     "text": [
      "Intel MKL WARNING: Support of Intel(R) Streaming SIMD Extensions 4.2 (Intel(R) SSE4.2) enabled only processors has been deprecated. Intel oneAPI Math Kernel Library 2025.0 will require Intel(R) Advanced Vector Extensions (Intel(R) AVX) instructions.\n",
      "Intel MKL WARNING: Support of Intel(R) Streaming SIMD Extensions 4.2 (Intel(R) SSE4.2) enabled only processors has been deprecated. Intel oneAPI Math Kernel Library 2025.0 will require Intel(R) Advanced Vector Extensions (Intel(R) AVX) instructions.\n"
     ]
    }
   ],
   "source": [
    "# Imports\n",
    "import krippendorff as kd\n",
    "import time\n",
    "import os\n",
    "import glob\n",
    "import csv\n",
    "import numpy as np\n",
    "import pandas as pd\n",
    "from scipy import stats\n",
    "from statsmodels.stats import inter_rater as irr\n",
    "import openai\n",
    "import ray\n",
    "from sklearn.metrics import cohen_kappa_score\n",
    "import matplotlib.pyplot as plt\n",
    "import seaborn as sns\n",
    "\n",
    "# File locations\n",
    "dir = '/Users/Federica_1/Documents/GitHub/endoQAeval'\n",
    "out_dir = os.path.join(dir, 'output')\n",
    "fig_dir = os.path.join(dir, 'figures')"
   ]
  },
  {
   "cell_type": "markdown",
   "metadata": {},
   "source": [
    "# Calculating Inter-Annotator Agreement"
   ]
  },
  {
   "cell_type": "code",
   "execution_count": 2,
   "metadata": {},
   "outputs": [
    {
     "name": "stdout",
     "output_type": "stream",
     "text": [
      "Agreement Ayers et al.\n",
      "Quality\n",
      "0.408363115580218\n",
      "Empathy\n",
      "0.4896056452190445\n"
     ]
    }
   ],
   "source": [
    "ayers = pd.read_csv(os.path.join(dir, 'data', 'ayers2023.csv'))\n",
    "\n",
    "print('Agreement Ayers et al.')\n",
    "\n",
    "for metric in [\"Quality\", \"Empathy\"]:\n",
    "    print(metric)\n",
    "    annotations = []\n",
    "    for annotator in range(1,4):\n",
    "        annotator_list = []\n",
    "        key1 = f'Eval {str(annotator)} {metric} (Physician)'\n",
    "        annotator_list.extend(ayers[key1])\n",
    "        key2 = f'Eval {str(annotator)} {metric} (ChatGPT)'\n",
    "        annotator_list.extend(ayers[key2])\n",
    "        annotations.append(annotator_list)\n",
    "\n",
    "    a = kd.alpha(annotations, level_of_measurement='interval')\n",
    "    print(a)"
   ]
  },
  {
   "cell_type": "code",
   "execution_count": 3,
   "metadata": {},
   "outputs": [
    {
     "data": {
      "text/html": [
       "<div>\n",
       "<style scoped>\n",
       "    .dataframe tbody tr th:only-of-type {\n",
       "        vertical-align: middle;\n",
       "    }\n",
       "\n",
       "    .dataframe tbody tr th {\n",
       "        vertical-align: top;\n",
       "    }\n",
       "\n",
       "    .dataframe thead th {\n",
       "        text-align: right;\n",
       "    }\n",
       "</style>\n",
       "<table border=\"1\" class=\"dataframe\">\n",
       "  <thead>\n",
       "    <tr style=\"text-align: right;\">\n",
       "      <th></th>\n",
       "      <th>question_id</th>\n",
       "      <th>question</th>\n",
       "      <th>response</th>\n",
       "      <th>response_id</th>\n",
       "      <th>prompt</th>\n",
       "      <th>type</th>\n",
       "      <th>Annotator 2 - Information Quality</th>\n",
       "      <th>Annotator 2 - Empathy</th>\n",
       "      <th>Annotator 2 - Actionability</th>\n",
       "      <th>Annotator 3 - Information Quality</th>\n",
       "      <th>Annotator 3 - Empathy</th>\n",
       "      <th>Annotator 3 - Actionability</th>\n",
       "      <th>Specialist - Information Quality</th>\n",
       "      <th>Average Information Quality</th>\n",
       "      <th>Average Empathy</th>\n",
       "      <th>Average Actionability</th>\n",
       "    </tr>\n",
       "  </thead>\n",
       "  <tbody>\n",
       "    <tr>\n",
       "      <th>0</th>\n",
       "      <td>Endo_d8bcw7_post</td>\n",
       "      <td>I had a lap on 5/10/19 and my gyno said my bla...</td>\n",
       "      <td>as an ai, i don't have the ability to diagnose...</td>\n",
       "      <td>endoR0</td>\n",
       "      <td>no_prompt</td>\n",
       "      <td>endo</td>\n",
       "      <td>4</td>\n",
       "      <td>2</td>\n",
       "      <td>2</td>\n",
       "      <td>3</td>\n",
       "      <td>2</td>\n",
       "      <td>2</td>\n",
       "      <td>4</td>\n",
       "      <td>3.5</td>\n",
       "      <td>2.0</td>\n",
       "      <td>2.0</td>\n",
       "    </tr>\n",
       "  </tbody>\n",
       "</table>\n",
       "</div>"
      ],
      "text/plain": [
       "        question_id                                           question  \\\n",
       "0  Endo_d8bcw7_post  I had a lap on 5/10/19 and my gyno said my bla...   \n",
       "\n",
       "                                            response response_id     prompt  \\\n",
       "0  as an ai, i don't have the ability to diagnose...      endoR0  no_prompt   \n",
       "\n",
       "   type  Annotator 2 - Information Quality  Annotator 2 - Empathy  \\\n",
       "0  endo                                  4                      2   \n",
       "\n",
       "   Annotator 2 - Actionability  Annotator 3 - Information Quality  \\\n",
       "0                            2                                  3   \n",
       "\n",
       "   Annotator 3 - Empathy  Annotator 3 - Actionability  \\\n",
       "0                      2                            2   \n",
       "\n",
       "   Specialist - Information Quality  Average Information Quality  \\\n",
       "0                                 4                          3.5   \n",
       "\n",
       "   Average Empathy  Average Actionability  \n",
       "0              2.0                    2.0  "
      ]
     },
     "execution_count": 3,
     "metadata": {},
     "output_type": "execute_result"
    }
   ],
   "source": [
    "pat = pd.read_csv(os.path.join(out_dir, 'patient_annotations.csv'), usecols=range(1,13))\n",
    "doc = pd.read_csv(os.path.join(out_dir, 'specialist_annotations.csv'), usecols=range(4,8))\n",
    "merged = pd.merge(left=pat, left_on=['response_id', 'prompt', 'type'], right=doc, right_on=['response_id', 'prompt', 'type'])\n",
    "\n",
    "for column in [\"Information Quality\",\"Empathy\",\"Actionability\"]:\n",
    "    key = f'Average {column}'\n",
    "    key2 = f'Annotator 2 - {column}'\n",
    "    key3 = f'Annotator 3 - {column}'\n",
    "    merged[key] = merged[[key2, key3]].mean(axis=1)\n",
    "merged[:1]"
   ]
  },
  {
   "cell_type": "markdown",
   "metadata": {},
   "source": [
    "### Krippendorff's Alpha and Fleiss' Kappa for three annotators"
   ]
  },
  {
   "cell_type": "code",
   "execution_count": 4,
   "metadata": {},
   "outputs": [],
   "source": [
    "# calculate agreement across three annotators: we have three annotators only for Information Quality\n",
    "def calculate_agreement_three(data):\n",
    "    for metric in [\"Information Quality\"]:\n",
    "        print(metric)\n",
    "        annotations = []\n",
    "        for annotator in ['Annotator 2', 'Annotator 3', 'Specialist']:\n",
    "            key = annotator + ' - ' + metric\n",
    "            annotations.append(data[key])\n",
    "        a = kd.alpha(annotations, level_of_measurement='interval')\n",
    "        print(\"Krippendorff's alpha\", round(a, 2))\n",
    "        giro = np.array(annotations).transpose()\n",
    "        k = irr.fleiss_kappa(irr.aggregate_raters(giro)[0], method='fleiss')\n",
    "        print(\"Fleiss' Kappa\", round(k, 2))"
   ]
  },
  {
   "cell_type": "markdown",
   "metadata": {},
   "source": [
    "### Krippendorff's Alpha and Cohen's Kappa for three annotators"
   ]
  },
  {
   "cell_type": "code",
   "execution_count": 5,
   "metadata": {},
   "outputs": [],
   "source": [
    "# calculate agreement across two annotators\n",
    "def calculate_agreement_two(data):\n",
    "    for metric in [\"Information Quality\", \"Empathy\", \"Actionability\"]:\n",
    "        print(metric)\n",
    "        for annotators in [('Annotator 2', 'Annotator 3'), ('Annotator 2', 'Specialist'), ('Annotator 3', 'Specialist')]:\n",
    "                annotator1 = annotators[0]\n",
    "                annotator2 = annotators[1]\n",
    "                if annotator1 != annotator2:\n",
    "                    if 'Info' not in metric:\n",
    "                        if 'Spec' not in annotator1 and 'Spec' not in annotator2:\n",
    "                            key1 = annotator1 + ' - ' + metric\n",
    "                            key2 = annotator2 + ' - ' + metric\n",
    "                            a = kd.alpha([data[key1], data[key2]], level_of_measurement='interval')\n",
    "                            print(annotator1, annotator2)\n",
    "                            print(\"Krippendorff's alpha\", round(a, 2))\n",
    "                            print(\"Cohen's Kappa\", round(cohen_kappa_score(data[key1], data[key2], weights = 'linear'), 2))\n",
    "                    else:\n",
    "                        key1 = annotator1 + ' - ' + metric\n",
    "                        key2 = annotator2 + ' - ' + metric\n",
    "                        a = kd.alpha([data[key1], data[key2]], level_of_measurement='interval')\n",
    "                        print(annotator1, annotator2)\n",
    "                        print(\"Krippendorff's alpha\", round(a, 2))\n",
    "                        print(\"Cohen's Kappa\", round(cohen_kappa_score(data[key1], data[key2], weights = 'linear'), 2))\n",
    "        print('\\n')"
   ]
  },
  {
   "cell_type": "markdown",
   "metadata": {},
   "source": [
    "### Trying Variance and Spread"
   ]
  },
  {
   "cell_type": "code",
   "execution_count": 6,
   "metadata": {},
   "outputs": [
    {
     "data": {
      "text/html": [
       "<div>\n",
       "<style scoped>\n",
       "    .dataframe tbody tr th:only-of-type {\n",
       "        vertical-align: middle;\n",
       "    }\n",
       "\n",
       "    .dataframe tbody tr th {\n",
       "        vertical-align: top;\n",
       "    }\n",
       "\n",
       "    .dataframe thead th {\n",
       "        text-align: right;\n",
       "    }\n",
       "</style>\n",
       "<table border=\"1\" class=\"dataframe\">\n",
       "  <thead>\n",
       "    <tr style=\"text-align: right;\">\n",
       "      <th></th>\n",
       "      <th>question_id</th>\n",
       "      <th>question</th>\n",
       "      <th>response</th>\n",
       "      <th>response_id</th>\n",
       "      <th>prompt</th>\n",
       "      <th>type</th>\n",
       "      <th>Annotator 2 - Information Quality</th>\n",
       "      <th>Annotator 2 - Empathy</th>\n",
       "      <th>Annotator 2 - Actionability</th>\n",
       "      <th>Annotator 3 - Information Quality</th>\n",
       "      <th>...</th>\n",
       "      <th>Specialist - Information Quality</th>\n",
       "      <th>Average Information Quality</th>\n",
       "      <th>Average Empathy</th>\n",
       "      <th>Average Actionability</th>\n",
       "      <th>Variance Information Quality</th>\n",
       "      <th>Variance Empathy</th>\n",
       "      <th>Variance Actionability</th>\n",
       "      <th>Spread Information Quality</th>\n",
       "      <th>Spread Empathy</th>\n",
       "      <th>Spread Actionability</th>\n",
       "    </tr>\n",
       "  </thead>\n",
       "  <tbody>\n",
       "    <tr>\n",
       "      <th>0</th>\n",
       "      <td>Endo_d8bcw7_post</td>\n",
       "      <td>I had a lap on 5/10/19 and my gyno said my bla...</td>\n",
       "      <td>as an ai, i don't have the ability to diagnose...</td>\n",
       "      <td>endoR0</td>\n",
       "      <td>no_prompt</td>\n",
       "      <td>endo</td>\n",
       "      <td>4</td>\n",
       "      <td>2</td>\n",
       "      <td>2</td>\n",
       "      <td>3</td>\n",
       "      <td>...</td>\n",
       "      <td>4</td>\n",
       "      <td>3.5</td>\n",
       "      <td>2.0</td>\n",
       "      <td>2.0</td>\n",
       "      <td>0.222222</td>\n",
       "      <td>0.0</td>\n",
       "      <td>0.0</td>\n",
       "      <td>1</td>\n",
       "      <td>0</td>\n",
       "      <td>0</td>\n",
       "    </tr>\n",
       "  </tbody>\n",
       "</table>\n",
       "<p>1 rows × 22 columns</p>\n",
       "</div>"
      ],
      "text/plain": [
       "        question_id                                           question  \\\n",
       "0  Endo_d8bcw7_post  I had a lap on 5/10/19 and my gyno said my bla...   \n",
       "\n",
       "                                            response response_id     prompt  \\\n",
       "0  as an ai, i don't have the ability to diagnose...      endoR0  no_prompt   \n",
       "\n",
       "   type  Annotator 2 - Information Quality  Annotator 2 - Empathy  \\\n",
       "0  endo                                  4                      2   \n",
       "\n",
       "   Annotator 2 - Actionability  Annotator 3 - Information Quality  ...  \\\n",
       "0                            2                                  3  ...   \n",
       "\n",
       "   Specialist - Information Quality  Average Information Quality  \\\n",
       "0                                 4                          3.5   \n",
       "\n",
       "   Average Empathy  Average Actionability  Variance Information Quality  \\\n",
       "0              2.0                    2.0                      0.222222   \n",
       "\n",
       "   Variance Empathy  Variance Actionability  Spread Information Quality  \\\n",
       "0               0.0                     0.0                           1   \n",
       "\n",
       "   Spread Empathy  Spread Actionability  \n",
       "0               0                     0  \n",
       "\n",
       "[1 rows x 22 columns]"
      ]
     },
     "execution_count": 6,
     "metadata": {},
     "output_type": "execute_result"
    }
   ],
   "source": [
    "measures = {'Variance': {\"Information Quality\":[], \"Empathy\":[], \"Actionability\":[]},\n",
    "            'Spread': {\"Information Quality\":[], \"Empathy\":[], \"Actionability\":[]}}\n",
    "\n",
    "for index, row in merged.iterrows():\n",
    "    for columns in [['Annotator 2 - Information Quality', 'Annotator 3 - Information Quality', 'Specialist - Information Quality'],\n",
    "                    ['Annotator 2 - Empathy','Annotator 3 - Empathy'],\n",
    "                    ['Annotator 2 - Actionability','Annotator 3 - Actionability']]:\n",
    "        metric = columns[0].split(' - ')[1]\n",
    "        values = row[columns].values\n",
    "        measures['Variance'][metric].append(np.array(values).var())\n",
    "        measures['Spread'][metric].append((np.max(values))-(np.min(values)))\n",
    "\n",
    "for measure,metrics in measures.items():\n",
    "    for metric,values in metrics.items():\n",
    "        merged[measure+' '+metric] = values\n",
    "merged[:1]"
   ]
  },
  {
   "cell_type": "code",
   "execution_count": 7,
   "metadata": {},
   "outputs": [],
   "source": [
    "def calculate_spread(df):\n",
    "    \n",
    "    metric_summary = []\n",
    "    for metric in [\"Information Quality\", \"Empathy\", \"Actionability\"]:\n",
    "        if \"Act\" not in metric:\n",
    "            for spread in [0,1,2,3,4]:\n",
    "                tot = len(df[df['Spread '+metric]==spread])\n",
    "                perc = round(len(df[df['Spread '+metric]==spread])/len(df),2)\n",
    "                d = {'Metric':metric, 'Spread':spread, 'Perc':perc}\n",
    "                metric_summary.append(d)\n",
    "        else:\n",
    "            for spread in [0,1,2]:\n",
    "                tot = len(df[df['Spread '+metric]==spread])\n",
    "                perc = round(len(df[df['Spread '+metric]==spread])/len(df),2)\n",
    "                d = {'Metric':metric, 'Spread':spread, 'Perc':perc}\n",
    "                metric_summary.append(d)\n",
    "\n",
    "    metric_summary_df = pd.DataFrame.from_dict(metric_summary)\n",
    "    return metric_summary_df"
   ]
  },
  {
   "cell_type": "code",
   "execution_count": 8,
   "metadata": {},
   "outputs": [],
   "source": [
    "def calculate_variance(df):\n",
    "    for metric in [\"Information Quality\", \"Empathy\", \"Actionability\"]:\n",
    "        print(metric)\n",
    "        df_low_variance = df[df['Variance '+metric]<0.6].copy()\n",
    "        print(f'Perc of general responses with low variance in terms of {metric}:', round(len(df_low_variance)/len(df), 2))\n",
    "        if df.iloc[0]['type'] == 'endo':\n",
    "            print('No prompt:',round(len(df_low_variance[df_low_variance['prompt'] == 'no_prompt'])/len(df_low_variance), 2))\n",
    "            print('Doc prompt:', round(len(df_low_variance[df_low_variance['prompt'] == 'doc_prompt'])/len(df_low_variance), 2))\n",
    "            print('Pat prompt:', round(len(df_low_variance[df_low_variance['prompt'] == 'pat_prompt'])/len(df_low_variance), 2))\n",
    "        print('\\n')"
   ]
  },
  {
   "cell_type": "markdown",
   "metadata": {},
   "source": [
    "# All answers"
   ]
  },
  {
   "cell_type": "code",
   "execution_count": 9,
   "metadata": {},
   "outputs": [
    {
     "name": "stdout",
     "output_type": "stream",
     "text": [
      "Information Quality\n",
      "Krippendorff's alpha 0.1\n",
      "Fleiss' Kappa -0.0\n"
     ]
    }
   ],
   "source": [
    "calculate_agreement_three(merged)"
   ]
  },
  {
   "cell_type": "code",
   "execution_count": 10,
   "metadata": {},
   "outputs": [
    {
     "name": "stdout",
     "output_type": "stream",
     "text": [
      "Information Quality\n",
      "Annotator 2 Annotator 3\n",
      "Krippendorff's alpha 0.08\n",
      "Cohen's Kappa 0.07\n",
      "Annotator 2 Specialist\n",
      "Krippendorff's alpha 0.12\n",
      "Cohen's Kappa 0.07\n",
      "Annotator 3 Specialist\n",
      "Krippendorff's alpha 0.08\n",
      "Cohen's Kappa 0.05\n",
      "\n",
      "\n",
      "Empathy\n",
      "Annotator 2 Annotator 3\n",
      "Krippendorff's alpha 0.22\n",
      "Cohen's Kappa 0.18\n",
      "\n",
      "\n",
      "Actionability\n",
      "Annotator 2 Annotator 3\n",
      "Krippendorff's alpha 0.25\n",
      "Cohen's Kappa 0.2\n",
      "\n",
      "\n"
     ]
    }
   ],
   "source": [
    "calculate_agreement_two(merged)"
   ]
  },
  {
   "cell_type": "code",
   "execution_count": 11,
   "metadata": {},
   "outputs": [
    {
     "data": {
      "text/html": [
       "<div>\n",
       "<style scoped>\n",
       "    .dataframe tbody tr th:only-of-type {\n",
       "        vertical-align: middle;\n",
       "    }\n",
       "\n",
       "    .dataframe tbody tr th {\n",
       "        vertical-align: top;\n",
       "    }\n",
       "\n",
       "    .dataframe thead th {\n",
       "        text-align: right;\n",
       "    }\n",
       "</style>\n",
       "<table border=\"1\" class=\"dataframe\">\n",
       "  <thead>\n",
       "    <tr style=\"text-align: right;\">\n",
       "      <th></th>\n",
       "      <th>Metric</th>\n",
       "      <th>Spread</th>\n",
       "      <th>Perc</th>\n",
       "    </tr>\n",
       "  </thead>\n",
       "  <tbody>\n",
       "    <tr>\n",
       "      <th>0</th>\n",
       "      <td>Information Quality</td>\n",
       "      <td>0</td>\n",
       "      <td>0.13</td>\n",
       "    </tr>\n",
       "    <tr>\n",
       "      <th>1</th>\n",
       "      <td>Information Quality</td>\n",
       "      <td>1</td>\n",
       "      <td>0.52</td>\n",
       "    </tr>\n",
       "    <tr>\n",
       "      <th>2</th>\n",
       "      <td>Information Quality</td>\n",
       "      <td>2</td>\n",
       "      <td>0.30</td>\n",
       "    </tr>\n",
       "    <tr>\n",
       "      <th>3</th>\n",
       "      <td>Information Quality</td>\n",
       "      <td>3</td>\n",
       "      <td>0.05</td>\n",
       "    </tr>\n",
       "    <tr>\n",
       "      <th>4</th>\n",
       "      <td>Information Quality</td>\n",
       "      <td>4</td>\n",
       "      <td>0.00</td>\n",
       "    </tr>\n",
       "    <tr>\n",
       "      <th>5</th>\n",
       "      <td>Empathy</td>\n",
       "      <td>0</td>\n",
       "      <td>0.27</td>\n",
       "    </tr>\n",
       "    <tr>\n",
       "      <th>6</th>\n",
       "      <td>Empathy</td>\n",
       "      <td>1</td>\n",
       "      <td>0.60</td>\n",
       "    </tr>\n",
       "    <tr>\n",
       "      <th>7</th>\n",
       "      <td>Empathy</td>\n",
       "      <td>2</td>\n",
       "      <td>0.12</td>\n",
       "    </tr>\n",
       "    <tr>\n",
       "      <th>8</th>\n",
       "      <td>Empathy</td>\n",
       "      <td>3</td>\n",
       "      <td>0.01</td>\n",
       "    </tr>\n",
       "    <tr>\n",
       "      <th>9</th>\n",
       "      <td>Empathy</td>\n",
       "      <td>4</td>\n",
       "      <td>0.00</td>\n",
       "    </tr>\n",
       "    <tr>\n",
       "      <th>10</th>\n",
       "      <td>Actionability</td>\n",
       "      <td>0</td>\n",
       "      <td>0.70</td>\n",
       "    </tr>\n",
       "    <tr>\n",
       "      <th>11</th>\n",
       "      <td>Actionability</td>\n",
       "      <td>1</td>\n",
       "      <td>0.30</td>\n",
       "    </tr>\n",
       "    <tr>\n",
       "      <th>12</th>\n",
       "      <td>Actionability</td>\n",
       "      <td>2</td>\n",
       "      <td>0.00</td>\n",
       "    </tr>\n",
       "  </tbody>\n",
       "</table>\n",
       "</div>"
      ],
      "text/plain": [
       "                 Metric  Spread  Perc\n",
       "0   Information Quality       0  0.13\n",
       "1   Information Quality       1  0.52\n",
       "2   Information Quality       2  0.30\n",
       "3   Information Quality       3  0.05\n",
       "4   Information Quality       4  0.00\n",
       "5               Empathy       0  0.27\n",
       "6               Empathy       1  0.60\n",
       "7               Empathy       2  0.12\n",
       "8               Empathy       3  0.01\n",
       "9               Empathy       4  0.00\n",
       "10        Actionability       0  0.70\n",
       "11        Actionability       1  0.30\n",
       "12        Actionability       2  0.00"
      ]
     },
     "execution_count": 11,
     "metadata": {},
     "output_type": "execute_result"
    }
   ],
   "source": [
    "calculate_spread(merged)"
   ]
  },
  {
   "cell_type": "markdown",
   "metadata": {},
   "source": [
    "# Endometriosis Answers"
   ]
  },
  {
   "cell_type": "code",
   "execution_count": 12,
   "metadata": {},
   "outputs": [],
   "source": [
    "endo = merged[merged['type'] == 'endo'].copy()\n",
    "general = merged[merged['type'] == 'general'].copy()"
   ]
  },
  {
   "cell_type": "code",
   "execution_count": 13,
   "metadata": {},
   "outputs": [
    {
     "name": "stdout",
     "output_type": "stream",
     "text": [
      "Information Quality\n",
      "Krippendorff's alpha 0.09\n",
      "Fleiss' Kappa 0.01\n"
     ]
    }
   ],
   "source": [
    "calculate_agreement_three(endo)"
   ]
  },
  {
   "cell_type": "code",
   "execution_count": 14,
   "metadata": {},
   "outputs": [
    {
     "name": "stdout",
     "output_type": "stream",
     "text": [
      "Information Quality\n",
      "Annotator 2 Annotator 3\n",
      "Krippendorff's alpha 0.04\n",
      "Cohen's Kappa 0.05\n",
      "Annotator 2 Specialist\n",
      "Krippendorff's alpha 0.13\n",
      "Cohen's Kappa 0.09\n",
      "Annotator 3 Specialist\n",
      "Krippendorff's alpha 0.08\n",
      "Cohen's Kappa 0.04\n",
      "\n",
      "\n",
      "Empathy\n",
      "Annotator 2 Annotator 3\n",
      "Krippendorff's alpha 0.29\n",
      "Cohen's Kappa 0.21\n",
      "\n",
      "\n",
      "Actionability\n",
      "Annotator 2 Annotator 3\n",
      "Krippendorff's alpha 0.25\n",
      "Cohen's Kappa 0.19\n",
      "\n",
      "\n"
     ]
    }
   ],
   "source": [
    "calculate_agreement_two(endo)"
   ]
  },
  {
   "cell_type": "code",
   "execution_count": 15,
   "metadata": {},
   "outputs": [
    {
     "name": "stdout",
     "output_type": "stream",
     "text": [
      "Information Quality\n",
      "Perc of general responses with low variance in terms of Information Quality: 0.67\n",
      "No prompt: 0.34\n",
      "Doc prompt: 0.35\n",
      "Pat prompt: 0.31\n",
      "\n",
      "\n",
      "Empathy\n",
      "Perc of general responses with low variance in terms of Empathy: 0.89\n",
      "No prompt: 0.34\n",
      "Doc prompt: 0.34\n",
      "Pat prompt: 0.32\n",
      "\n",
      "\n",
      "Actionability\n",
      "Perc of general responses with low variance in terms of Actionability: 1.0\n",
      "No prompt: 0.33\n",
      "Doc prompt: 0.33\n",
      "Pat prompt: 0.33\n",
      "\n",
      "\n"
     ]
    }
   ],
   "source": [
    "calculate_variance(endo)"
   ]
  },
  {
   "cell_type": "code",
   "execution_count": 16,
   "metadata": {},
   "outputs": [
    {
     "data": {
      "text/html": [
       "<div>\n",
       "<style scoped>\n",
       "    .dataframe tbody tr th:only-of-type {\n",
       "        vertical-align: middle;\n",
       "    }\n",
       "\n",
       "    .dataframe tbody tr th {\n",
       "        vertical-align: top;\n",
       "    }\n",
       "\n",
       "    .dataframe thead th {\n",
       "        text-align: right;\n",
       "    }\n",
       "</style>\n",
       "<table border=\"1\" class=\"dataframe\">\n",
       "  <thead>\n",
       "    <tr style=\"text-align: right;\">\n",
       "      <th></th>\n",
       "      <th>Metric</th>\n",
       "      <th>Spread</th>\n",
       "      <th>Perc</th>\n",
       "    </tr>\n",
       "  </thead>\n",
       "  <tbody>\n",
       "    <tr>\n",
       "      <th>0</th>\n",
       "      <td>Information Quality</td>\n",
       "      <td>0</td>\n",
       "      <td>0.14</td>\n",
       "    </tr>\n",
       "    <tr>\n",
       "      <th>1</th>\n",
       "      <td>Information Quality</td>\n",
       "      <td>1</td>\n",
       "      <td>0.53</td>\n",
       "    </tr>\n",
       "    <tr>\n",
       "      <th>2</th>\n",
       "      <td>Information Quality</td>\n",
       "      <td>2</td>\n",
       "      <td>0.29</td>\n",
       "    </tr>\n",
       "    <tr>\n",
       "      <th>3</th>\n",
       "      <td>Information Quality</td>\n",
       "      <td>3</td>\n",
       "      <td>0.04</td>\n",
       "    </tr>\n",
       "    <tr>\n",
       "      <th>4</th>\n",
       "      <td>Information Quality</td>\n",
       "      <td>4</td>\n",
       "      <td>0.00</td>\n",
       "    </tr>\n",
       "    <tr>\n",
       "      <th>5</th>\n",
       "      <td>Empathy</td>\n",
       "      <td>0</td>\n",
       "      <td>0.28</td>\n",
       "    </tr>\n",
       "    <tr>\n",
       "      <th>6</th>\n",
       "      <td>Empathy</td>\n",
       "      <td>1</td>\n",
       "      <td>0.60</td>\n",
       "    </tr>\n",
       "    <tr>\n",
       "      <th>7</th>\n",
       "      <td>Empathy</td>\n",
       "      <td>2</td>\n",
       "      <td>0.11</td>\n",
       "    </tr>\n",
       "    <tr>\n",
       "      <th>8</th>\n",
       "      <td>Empathy</td>\n",
       "      <td>3</td>\n",
       "      <td>0.01</td>\n",
       "    </tr>\n",
       "    <tr>\n",
       "      <th>9</th>\n",
       "      <td>Empathy</td>\n",
       "      <td>4</td>\n",
       "      <td>0.00</td>\n",
       "    </tr>\n",
       "    <tr>\n",
       "      <th>10</th>\n",
       "      <td>Actionability</td>\n",
       "      <td>0</td>\n",
       "      <td>0.70</td>\n",
       "    </tr>\n",
       "    <tr>\n",
       "      <th>11</th>\n",
       "      <td>Actionability</td>\n",
       "      <td>1</td>\n",
       "      <td>0.30</td>\n",
       "    </tr>\n",
       "    <tr>\n",
       "      <th>12</th>\n",
       "      <td>Actionability</td>\n",
       "      <td>2</td>\n",
       "      <td>0.00</td>\n",
       "    </tr>\n",
       "  </tbody>\n",
       "</table>\n",
       "</div>"
      ],
      "text/plain": [
       "                 Metric  Spread  Perc\n",
       "0   Information Quality       0  0.14\n",
       "1   Information Quality       1  0.53\n",
       "2   Information Quality       2  0.29\n",
       "3   Information Quality       3  0.04\n",
       "4   Information Quality       4  0.00\n",
       "5               Empathy       0  0.28\n",
       "6               Empathy       1  0.60\n",
       "7               Empathy       2  0.11\n",
       "8               Empathy       3  0.01\n",
       "9               Empathy       4  0.00\n",
       "10        Actionability       0  0.70\n",
       "11        Actionability       1  0.30\n",
       "12        Actionability       2  0.00"
      ]
     },
     "execution_count": 16,
     "metadata": {},
     "output_type": "execute_result"
    }
   ],
   "source": [
    "calculate_spread(endo)"
   ]
  },
  {
   "cell_type": "markdown",
   "metadata": {},
   "source": [
    "# General Answers"
   ]
  },
  {
   "cell_type": "code",
   "execution_count": 17,
   "metadata": {},
   "outputs": [
    {
     "name": "stdout",
     "output_type": "stream",
     "text": [
      "Information Quality\n",
      "Krippendorff's alpha 0.11\n",
      "Fleiss' Kappa -0.05\n"
     ]
    }
   ],
   "source": [
    "calculate_agreement_three(general)"
   ]
  },
  {
   "cell_type": "code",
   "execution_count": 18,
   "metadata": {},
   "outputs": [
    {
     "name": "stdout",
     "output_type": "stream",
     "text": [
      "Information Quality\n",
      "Annotator 2 Annotator 3\n",
      "Krippendorff's alpha 0.19\n",
      "Cohen's Kappa 0.13\n",
      "Annotator 2 Specialist\n",
      "Krippendorff's alpha 0.01\n",
      "Cohen's Kappa 0.0\n",
      "Annotator 3 Specialist\n",
      "Krippendorff's alpha 0.06\n",
      "Cohen's Kappa 0.1\n",
      "\n",
      "\n",
      "Empathy\n",
      "Annotator 2 Annotator 3\n",
      "Krippendorff's alpha -0.16\n",
      "Cohen's Kappa 0.04\n",
      "\n",
      "\n",
      "Actionability\n",
      "Annotator 2 Annotator 3\n",
      "Krippendorff's alpha 0.25\n",
      "Cohen's Kappa 0.22\n",
      "\n",
      "\n"
     ]
    }
   ],
   "source": [
    "calculate_agreement_two(general)"
   ]
  },
  {
   "cell_type": "code",
   "execution_count": 19,
   "metadata": {},
   "outputs": [
    {
     "data": {
      "text/html": [
       "<div>\n",
       "<style scoped>\n",
       "    .dataframe tbody tr th:only-of-type {\n",
       "        vertical-align: middle;\n",
       "    }\n",
       "\n",
       "    .dataframe tbody tr th {\n",
       "        vertical-align: top;\n",
       "    }\n",
       "\n",
       "    .dataframe thead th {\n",
       "        text-align: right;\n",
       "    }\n",
       "</style>\n",
       "<table border=\"1\" class=\"dataframe\">\n",
       "  <thead>\n",
       "    <tr style=\"text-align: right;\">\n",
       "      <th></th>\n",
       "      <th>Metric</th>\n",
       "      <th>Spread</th>\n",
       "      <th>Perc</th>\n",
       "    </tr>\n",
       "  </thead>\n",
       "  <tbody>\n",
       "    <tr>\n",
       "      <th>0</th>\n",
       "      <td>Information Quality</td>\n",
       "      <td>0</td>\n",
       "      <td>0.11</td>\n",
       "    </tr>\n",
       "    <tr>\n",
       "      <th>1</th>\n",
       "      <td>Information Quality</td>\n",
       "      <td>1</td>\n",
       "      <td>0.48</td>\n",
       "    </tr>\n",
       "    <tr>\n",
       "      <th>2</th>\n",
       "      <td>Information Quality</td>\n",
       "      <td>2</td>\n",
       "      <td>0.33</td>\n",
       "    </tr>\n",
       "    <tr>\n",
       "      <th>3</th>\n",
       "      <td>Information Quality</td>\n",
       "      <td>3</td>\n",
       "      <td>0.07</td>\n",
       "    </tr>\n",
       "    <tr>\n",
       "      <th>4</th>\n",
       "      <td>Information Quality</td>\n",
       "      <td>4</td>\n",
       "      <td>0.00</td>\n",
       "    </tr>\n",
       "    <tr>\n",
       "      <th>5</th>\n",
       "      <td>Empathy</td>\n",
       "      <td>0</td>\n",
       "      <td>0.23</td>\n",
       "    </tr>\n",
       "    <tr>\n",
       "      <th>6</th>\n",
       "      <td>Empathy</td>\n",
       "      <td>1</td>\n",
       "      <td>0.59</td>\n",
       "    </tr>\n",
       "    <tr>\n",
       "      <th>7</th>\n",
       "      <td>Empathy</td>\n",
       "      <td>2</td>\n",
       "      <td>0.18</td>\n",
       "    </tr>\n",
       "    <tr>\n",
       "      <th>8</th>\n",
       "      <td>Empathy</td>\n",
       "      <td>3</td>\n",
       "      <td>0.01</td>\n",
       "    </tr>\n",
       "    <tr>\n",
       "      <th>9</th>\n",
       "      <td>Empathy</td>\n",
       "      <td>4</td>\n",
       "      <td>0.00</td>\n",
       "    </tr>\n",
       "    <tr>\n",
       "      <th>10</th>\n",
       "      <td>Actionability</td>\n",
       "      <td>0</td>\n",
       "      <td>0.70</td>\n",
       "    </tr>\n",
       "    <tr>\n",
       "      <th>11</th>\n",
       "      <td>Actionability</td>\n",
       "      <td>1</td>\n",
       "      <td>0.29</td>\n",
       "    </tr>\n",
       "    <tr>\n",
       "      <th>12</th>\n",
       "      <td>Actionability</td>\n",
       "      <td>2</td>\n",
       "      <td>0.01</td>\n",
       "    </tr>\n",
       "  </tbody>\n",
       "</table>\n",
       "</div>"
      ],
      "text/plain": [
       "                 Metric  Spread  Perc\n",
       "0   Information Quality       0  0.11\n",
       "1   Information Quality       1  0.48\n",
       "2   Information Quality       2  0.33\n",
       "3   Information Quality       3  0.07\n",
       "4   Information Quality       4  0.00\n",
       "5               Empathy       0  0.23\n",
       "6               Empathy       1  0.59\n",
       "7               Empathy       2  0.18\n",
       "8               Empathy       3  0.01\n",
       "9               Empathy       4  0.00\n",
       "10        Actionability       0  0.70\n",
       "11        Actionability       1  0.29\n",
       "12        Actionability       2  0.01"
      ]
     },
     "execution_count": 19,
     "metadata": {},
     "output_type": "execute_result"
    }
   ],
   "source": [
    "calculate_spread(general)"
   ]
  },
  {
   "cell_type": "code",
   "execution_count": 20,
   "metadata": {},
   "outputs": [
    {
     "name": "stdout",
     "output_type": "stream",
     "text": [
      "Information Quality\n",
      "Perc of general responses with low variance in terms of Information Quality: 0.6\n",
      "\n",
      "\n",
      "Empathy\n",
      "Perc of general responses with low variance in terms of Empathy: 0.81\n",
      "\n",
      "\n",
      "Actionability\n",
      "Perc of general responses with low variance in terms of Actionability: 0.99\n",
      "\n",
      "\n"
     ]
    }
   ],
   "source": [
    "calculate_variance(general)"
   ]
  },
  {
   "cell_type": "markdown",
   "metadata": {},
   "source": [
    "# Sanity check"
   ]
  },
  {
   "cell_type": "code",
   "execution_count": null,
   "metadata": {},
   "outputs": [],
   "source": [
    "endo[endo['Spread Information Quality'] == 1].sort_values(['Average Information Quality'], ascending=True)[['question', 'response_id', 'response', 'Average Information Quality']]#.to_csv(os.path.join(out_dir, 'agreed_high_info_quality.csv'), index=False)"
   ]
  },
  {
   "cell_type": "code",
   "execution_count": null,
   "metadata": {},
   "outputs": [],
   "source": []
  }
 ],
 "metadata": {
  "kernelspec": {
   "display_name": "nlp",
   "language": "python",
   "name": "python3"
  },
  "language_info": {
   "codemirror_mode": {
    "name": "ipython",
    "version": 3
   },
   "file_extension": ".py",
   "mimetype": "text/x-python",
   "name": "python",
   "nbconvert_exporter": "python",
   "pygments_lexer": "ipython3",
   "version": "3.10.14"
  }
 },
 "nbformat": 4,
 "nbformat_minor": 2
}
