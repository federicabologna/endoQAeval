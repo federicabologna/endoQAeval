{
 "cells": [
  {
   "cell_type": "code",
   "execution_count": 8,
   "metadata": {},
   "outputs": [],
   "source": [
    "import time\n",
    "import os\n",
    "import glob\n",
    "import csv\n",
    "import numpy as np\n",
    "import pandas as pd\n",
    "from scipy import stats\n",
    "import openai\n",
    "import matplotlib.pyplot as plt\n",
    "import seaborn as sns\n",
    "\n",
    "# File locations\n",
    "dir = '/Users/Federica_1/Documents/GitHub/endoQAeval'\n",
    "out_dir = os.path.join(dir, 'output')\n",
    "fig_dir = os.path.join(dir, 'figures')"
   ]
  },
  {
   "cell_type": "code",
   "execution_count": 9,
   "metadata": {},
   "outputs": [
    {
     "data": {
      "text/html": [
       "<div>\n",
       "<style scoped>\n",
       "    .dataframe tbody tr th:only-of-type {\n",
       "        vertical-align: middle;\n",
       "    }\n",
       "\n",
       "    .dataframe tbody tr th {\n",
       "        vertical-align: top;\n",
       "    }\n",
       "\n",
       "    .dataframe thead th {\n",
       "        text-align: right;\n",
       "    }\n",
       "</style>\n",
       "<table border=\"1\" class=\"dataframe\">\n",
       "  <thead>\n",
       "    <tr style=\"text-align: right;\">\n",
       "      <th></th>\n",
       "      <th>question_id</th>\n",
       "      <th>question</th>\n",
       "      <th>response</th>\n",
       "      <th>response_id</th>\n",
       "      <th>Prompt</th>\n",
       "      <th>Medical Concern</th>\n",
       "      <th>Annotator Type</th>\n",
       "      <th>Metric</th>\n",
       "      <th>Annotator</th>\n",
       "      <th>Score</th>\n",
       "    </tr>\n",
       "  </thead>\n",
       "  <tbody>\n",
       "    <tr>\n",
       "      <th>0</th>\n",
       "      <td>Endo_2xjk3k_post</td>\n",
       "      <td>I'm in the UK if that makes a difference! Basi...</td>\n",
       "      <td>weight management in patients with pcos (polyc...</td>\n",
       "      <td>endoR142</td>\n",
       "      <td>doc_prompt</td>\n",
       "      <td>Endometriosis</td>\n",
       "      <td>Patient</td>\n",
       "      <td>Actionability</td>\n",
       "      <td>2.5</td>\n",
       "      <td>2.0</td>\n",
       "    </tr>\n",
       "  </tbody>\n",
       "</table>\n",
       "</div>"
      ],
      "text/plain": [
       "        question_id                                           question  \\\n",
       "0  Endo_2xjk3k_post  I'm in the UK if that makes a difference! Basi...   \n",
       "\n",
       "                                            response response_id      Prompt  \\\n",
       "0  weight management in patients with pcos (polyc...    endoR142  doc_prompt   \n",
       "\n",
       "  Medical Concern Annotator Type         Metric  Annotator  Score  \n",
       "0   Endometriosis        Patient  Actionability        2.5    2.0  "
      ]
     },
     "execution_count": 9,
     "metadata": {},
     "output_type": "execute_result"
    }
   ],
   "source": [
    "annotations = pd.read_csv(os.path.join(out_dir, 'all_annotations.csv'), index_col=0)\n",
    "grouped = annotations.groupby(['question_id', 'question', 'response', 'response_id',\n",
    "       'Prompt', 'Medical Concern', 'Annotator Type', 'Metric'], as_index=False).mean()\n",
    "grouped[:1]"
   ]
  },
  {
   "cell_type": "markdown",
   "metadata": {},
   "source": [
    "# Statistical Testing of Difference in Information Quality, Empathy, and Actionability Ratings between Patients and Specialist"
   ]
  },
  {
   "cell_type": "code",
   "execution_count": 10,
   "metadata": {},
   "outputs": [
    {
     "data": {
      "image/png": "[encoded data removed]",
      "text/plain": [
       "<Figure size 533.333x500 with 2 Axes>"
      ]
     },
     "metadata": {},
     "output_type": "display_data"
    }
   ],
   "source": [
    "colors_concern = {'Endometriosis':{'Patient': sns.color_palette('Blues')[2], 'Specialist': sns.color_palette('Blues')[4]},\n",
    "                  'General': {'Patient': sns.color_palette('Oranges')[2], 'Specialist': sns.color_palette('Oranges')[4]}}\n",
    "\n",
    "figure = plt.figure(figsize = (16/3,5), tight_layout=0.5)\n",
    "plt.suptitle(f'Performance for Endomentriosis Responses Across Prompting Strategies')\n",
    "pos = 1\n",
    "\n",
    "for concern in ['Endometriosis', 'General']:\n",
    "\n",
    "    figure.add_subplot(1,2,pos)\n",
    "\n",
    "    ax = sns.boxplot(data=grouped[(grouped['Prompt'] == 'no_prompt') &\n",
    "                              (grouped['Metric'] == 'Information Quality') &\n",
    "                              (grouped['Medical Concern'] == concern)],\n",
    "                 x='Annotator Type', y=\"Score\",\n",
    "                 palette=colors_concern[concern])\n",
    "    plt.ylim(0,5.5)\n",
    "    ax.grid(color='grey', axis='y', linestyle='-', linewidth=0.25, alpha=0.5)\n",
    "    ax.set_xlabel('')\n",
    "\n",
    "    if pos == 2:\n",
    "        ax.set_ylabel('')\n",
    "        ax.yaxis.set_tick_params(color='white')\n",
    "        ax.set_yticklabels([])\n",
    "\n",
    "    plt.title(f'{concern} Responses')\n",
    "    pos += 1\n",
    "\n",
    "plt.suptitle(f'Information Quality According to Patients and Specialist')\n",
    "plt.savefig(os.path.join(fig_dir, f'patientvsspecialist.png'), dpi = 300, bbox_inches = \"tight\")\n"
   ]
  },
  {
   "cell_type": "code",
   "execution_count": 11,
   "metadata": {},
   "outputs": [
    {
     "data": {
      "text/html": [
       "<div>\n",
       "<style scoped>\n",
       "    .dataframe tbody tr th:only-of-type {\n",
       "        vertical-align: middle;\n",
       "    }\n",
       "\n",
       "    .dataframe tbody tr th {\n",
       "        vertical-align: top;\n",
       "    }\n",
       "\n",
       "    .dataframe thead th {\n",
       "        text-align: right;\n",
       "    }\n",
       "</style>\n",
       "<table border=\"1\" class=\"dataframe\">\n",
       "  <thead>\n",
       "    <tr style=\"text-align: right;\">\n",
       "      <th></th>\n",
       "      <th>response_id</th>\n",
       "      <th>prompt</th>\n",
       "      <th>type</th>\n",
       "      <th>Annotator 2 - Information Quality</th>\n",
       "      <th>Annotator 2 - Empathy</th>\n",
       "      <th>Annotator 2 - Actionability</th>\n",
       "      <th>Annotator 3 - Information Quality</th>\n",
       "      <th>Annotator 3 - Empathy</th>\n",
       "      <th>Annotator 3 - Actionability</th>\n",
       "      <th>Specialist - Information Quality</th>\n",
       "      <th>Average Information Quality</th>\n",
       "      <th>Average Empathy</th>\n",
       "      <th>Average Actionability</th>\n",
       "    </tr>\n",
       "  </thead>\n",
       "  <tbody>\n",
       "    <tr>\n",
       "      <th>0</th>\n",
       "      <td>endoR0</td>\n",
       "      <td>no_prompt</td>\n",
       "      <td>endo</td>\n",
       "      <td>4</td>\n",
       "      <td>2</td>\n",
       "      <td>2</td>\n",
       "      <td>3</td>\n",
       "      <td>2</td>\n",
       "      <td>2</td>\n",
       "      <td>4</td>\n",
       "      <td>3.5</td>\n",
       "      <td>2.0</td>\n",
       "      <td>2.0</td>\n",
       "    </tr>\n",
       "  </tbody>\n",
       "</table>\n",
       "</div>"
      ],
      "text/plain": [
       "  response_id     prompt  type  Annotator 2 - Information Quality  \\\n",
       "0      endoR0  no_prompt  endo                                  4   \n",
       "\n",
       "   Annotator 2 - Empathy  Annotator 2 - Actionability  \\\n",
       "0                      2                            2   \n",
       "\n",
       "   Annotator 3 - Information Quality  Annotator 3 - Empathy  \\\n",
       "0                                  3                      2   \n",
       "\n",
       "   Annotator 3 - Actionability  Specialist - Information Quality  \\\n",
       "0                            2                                 4   \n",
       "\n",
       "   Average Information Quality  Average Empathy  Average Actionability  \n",
       "0                          3.5              2.0                    2.0  "
      ]
     },
     "execution_count": 11,
     "metadata": {},
     "output_type": "execute_result"
    }
   ],
   "source": [
    "pat = pd.read_csv(os.path.join(out_dir, 'patient_annotations.csv'), usecols=range(4,13))\n",
    "doc = pd.read_csv(os.path.join(out_dir, 'specialist_annotations.csv'), usecols=range(4,8))\n",
    "merged = pd.merge(left=pat, left_on=['response_id', 'prompt', 'type'], right=doc, right_on=['response_id', 'prompt', 'type'])\n",
    "\n",
    "for column in [\"Information Quality\",\"Empathy\",\"Actionability\"]:\n",
    "    key = f'Average {column}'\n",
    "    key2 = f'Annotator 2 - {column}'\n",
    "    key3 = f'Annotator 3 - {column}'\n",
    "    merged[key] = merged[[key2, key3]].mean(axis=1)\n",
    "merged[:1]"
   ]
  },
  {
   "cell_type": "markdown",
   "metadata": {},
   "source": [
    "## All answers"
   ]
  },
  {
   "cell_type": "code",
   "execution_count": 12,
   "metadata": {},
   "outputs": [
    {
     "name": "stdout",
     "output_type": "stream",
     "text": [
      "MannwhitneyuResult(statistic=59156.5, pvalue=1.074325412241145e-07)\n",
      "WilcoxonResult(statistic=19541.0, pvalue=1.6965356579996817e-05)\n"
     ]
    }
   ],
   "source": [
    "patient = merged['Average Information Quality'].values\n",
    "specialist = merged['Specialist - Information Quality'].values\n",
    "print(stats.mannwhitneyu(patient, specialist, alternative='two-sided'))\n",
    "print(stats.wilcoxon(patient, specialist, alternative='two-sided'))"
   ]
  },
  {
   "cell_type": "markdown",
   "metadata": {},
   "source": [
    "## Endometriosis answers"
   ]
  },
  {
   "cell_type": "code",
   "execution_count": 13,
   "metadata": {},
   "outputs": [
    {
     "name": "stdout",
     "output_type": "stream",
     "text": [
      "MannwhitneyuResult(statistic=36673.5, pvalue=0.0039510956379857605)\n",
      "WilcoxonResult(statistic=13022.0, pvalue=0.06194996064209626)\n"
     ]
    }
   ],
   "source": [
    "patient = merged[(merged['type'] == 'endo')]['Average Information Quality'].values\n",
    "specialist = merged[(merged['type'] == 'endo')]['Specialist - Information Quality'].values\n",
    "print(stats.mannwhitneyu(patient, specialist, alternative='two-sided'))\n",
    "print(stats.wilcoxon(patient, specialist, alternative='two-sided'))"
   ]
  },
  {
   "cell_type": "markdown",
   "metadata": {},
   "source": [
    "## General answers"
   ]
  },
  {
   "cell_type": "code",
   "execution_count": 14,
   "metadata": {},
   "outputs": [
    {
     "name": "stdout",
     "output_type": "stream",
     "text": [
      "MannwhitneyuResult(statistic=2571.5, pvalue=2.194286265914894e-08)\n",
      "WilcoxonResult(statistic=617.0, pvalue=4.234652541553666e-07)\n"
     ]
    }
   ],
   "source": [
    "patient = merged[(merged['type'] == 'general')]['Average Information Quality'].values\n",
    "specialist = merged[(merged['type'] == 'general')]['Specialist - Information Quality'].values\n",
    "print(stats.mannwhitneyu(patient, specialist, alternative='two-sided'))\n",
    "print(stats.wilcoxon(patient, specialist, alternative='two-sided'))"
   ]
  },
  {
   "cell_type": "markdown",
   "metadata": {},
   "source": [
    "## Percentage"
   ]
  },
  {
   "cell_type": "code",
   "execution_count": 19,
   "metadata": {},
   "outputs": [],
   "source": [
    "perc_info_d = {'Annotator':[], 'Score': [], 'Percentage':[]}\n",
    "endo_info = merged[merged['type'] == 'endo'].copy()\n",
    "\n",
    "\n",
    "for ann in ['Annotator 2', 'Annotator 3', 'Specialist']:\n",
    "    # print(ann)\n",
    "    for score in [1,2,3,4,5]:\n",
    "        key = f'{ann} - Information Quality'\n",
    "        perc = len(endo_info[endo_info[key] == score])/len(endo_info)*100\n",
    "        perc_info_d['Annotator'].append(ann)\n",
    "        perc_info_d['Score'].append(score)\n",
    "        perc_info_d['Percentage'].append(perc)\n",
    "        # print(perc)"
   ]
  },
  {
   "cell_type": "code",
   "execution_count": 16,
   "metadata": {},
   "outputs": [
    {
     "data": {
      "text/html": [
       "<div>\n",
       "<style scoped>\n",
       "    .dataframe tbody tr th:only-of-type {\n",
       "        vertical-align: middle;\n",
       "    }\n",
       "\n",
       "    .dataframe tbody tr th {\n",
       "        vertical-align: top;\n",
       "    }\n",
       "\n",
       "    .dataframe thead th {\n",
       "        text-align: right;\n",
       "    }\n",
       "</style>\n",
       "<table border=\"1\" class=\"dataframe\">\n",
       "  <thead>\n",
       "    <tr style=\"text-align: right;\">\n",
       "      <th></th>\n",
       "      <th>Annotator</th>\n",
       "      <th>Score</th>\n",
       "      <th>Percentage</th>\n",
       "    </tr>\n",
       "  </thead>\n",
       "  <tbody>\n",
       "    <tr>\n",
       "      <th>0</th>\n",
       "      <td>Annotator 2</td>\n",
       "      <td>1</td>\n",
       "      <td>0.0</td>\n",
       "    </tr>\n",
       "  </tbody>\n",
       "</table>\n",
       "</div>"
      ],
      "text/plain": [
       "     Annotator  Score  Percentage\n",
       "0  Annotator 2      1         0.0"
      ]
     },
     "execution_count": 16,
     "metadata": {},
     "output_type": "execute_result"
    }
   ],
   "source": [
    "perc_personas_df = pd.DataFrame.from_dict(perc_info_d)\n",
    "perc_personas_df[:1]"
   ]
  },
  {
   "cell_type": "code",
   "execution_count": 17,
   "metadata": {},
   "outputs": [
    {
     "data": {
      "text/plain": [
       "<Axes: xlabel='Score', ylabel='Percentage'>"
      ]
     },
     "execution_count": 17,
     "metadata": {},
     "output_type": "execute_result"
    },
    {
     "data": {
      "image/png": "[encoded data removed]",
      "text/plain": [
       "<Figure size 640x480 with 1 Axes>"
      ]
     },
     "metadata": {},
     "output_type": "display_data"
    }
   ],
   "source": [
    "sns.barplot(data=perc_personas_df, x='Score', y='Percentage', hue='Annotator')\n"
   ]
  },
  {
   "cell_type": "markdown",
   "metadata": {},
   "source": [
    "## Responses with score <1"
   ]
  },
  {
   "cell_type": "code",
   "execution_count": null,
   "metadata": {},
   "outputs": [],
   "source": [
    "pd.set_option('display.max_colwidth', None)\n",
    "grouped[(grouped['Annotator Type'] == 'Specialist') & (grouped['Score'] == 1)][['question', 'response']]"
   ]
  },
  {
   "cell_type": "code",
   "execution_count": null,
   "metadata": {},
   "outputs": [],
   "source": []
  }
 ],
 "metadata": {
  "kernelspec": {
   "display_name": "nlp",
   "language": "python",
   "name": "python3"
  },
  "language_info": {
   "codemirror_mode": {
    "name": "ipython",
    "version": 3
   },
   "file_extension": ".py",
   "mimetype": "text/x-python",
   "name": "python",
   "nbconvert_exporter": "python",
   "pygments_lexer": "ipython3",
   "version": "3.10.14"
  }
 },
 "nbformat": 4,
 "nbformat_minor": 2
}
