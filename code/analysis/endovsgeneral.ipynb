{
 "cells": [
  {
   "cell_type": "code",
   "execution_count": 1,
   "metadata": {},
   "outputs": [
    {
     "name": "stdout",
     "output_type": "stream",
     "text": [
      "Intel MKL WARNING: Support of Intel(R) Streaming SIMD Extensions 4.2 (Intel(R) SSE4.2) enabled only processors has been deprecated. Intel oneAPI Math Kernel Library 2025.0 will require Intel(R) Advanced Vector Extensions (Intel(R) AVX) instructions.\n",
      "Intel MKL WARNING: Support of Intel(R) Streaming SIMD Extensions 4.2 (Intel(R) SSE4.2) enabled only processors has been deprecated. Intel oneAPI Math Kernel Library 2025.0 will require Intel(R) Advanced Vector Extensions (Intel(R) AVX) instructions.\n"
     ]
    }
   ],
   "source": [
    "# Imports\n",
    "import time\n",
    "import os\n",
    "import glob\n",
    "import csv\n",
    "import numpy as np\n",
    "import pandas as pd\n",
    "from scipy import stats\n",
    "import openai\n",
    "import matplotlib.pyplot as plt\n",
    "import seaborn as sns\n",
    "\n",
    "# File locations\n",
    "dir = '/Users/Federica_1/Documents/GitHub/endoQAeval'\n",
    "out_dir = os.path.join(dir, 'output')\n",
    "fig_dir = os.path.join(dir, 'figures')"
   ]
  },
  {
   "cell_type": "markdown",
   "metadata": {},
   "source": [
    "# Statistical Testing of Difference in Information Quality, Empathy, and Actionability between Answers to Endo vs General Questions"
   ]
  },
  {
   "cell_type": "code",
   "execution_count": 2,
   "metadata": {},
   "outputs": [
    {
     "name": "stdout",
     "output_type": "stream",
     "text": [
      "388\n",
      "388\n"
     ]
    },
    {
     "data": {
      "text/html": [
       "<div>\n",
       "<style scoped>\n",
       "    .dataframe tbody tr th:only-of-type {\n",
       "        vertical-align: middle;\n",
       "    }\n",
       "\n",
       "    .dataframe tbody tr th {\n",
       "        vertical-align: top;\n",
       "    }\n",
       "\n",
       "    .dataframe thead th {\n",
       "        text-align: right;\n",
       "    }\n",
       "</style>\n",
       "<table border=\"1\" class=\"dataframe\">\n",
       "  <thead>\n",
       "    <tr style=\"text-align: right;\">\n",
       "      <th></th>\n",
       "      <th>response_id</th>\n",
       "      <th>prompt</th>\n",
       "      <th>type</th>\n",
       "      <th>Annotator 2 - Information Quality</th>\n",
       "      <th>Annotator 2 - Empathy</th>\n",
       "      <th>Annotator 2 - Actionability</th>\n",
       "      <th>Annotator 3 - Information Quality</th>\n",
       "      <th>Annotator 3 - Empathy</th>\n",
       "      <th>Annotator 3 - Actionability</th>\n",
       "      <th>Specialist - Information Quality</th>\n",
       "      <th>Patient Average Information Quality</th>\n",
       "      <th>Patient Average Empathy</th>\n",
       "      <th>Patient Average Actionability</th>\n",
       "      <th>Average Information Quality</th>\n",
       "    </tr>\n",
       "  </thead>\n",
       "  <tbody>\n",
       "    <tr>\n",
       "      <th>0</th>\n",
       "      <td>endoR0</td>\n",
       "      <td>no_prompt</td>\n",
       "      <td>endo</td>\n",
       "      <td>4</td>\n",
       "      <td>2</td>\n",
       "      <td>2</td>\n",
       "      <td>3</td>\n",
       "      <td>2</td>\n",
       "      <td>2</td>\n",
       "      <td>4</td>\n",
       "      <td>3.5</td>\n",
       "      <td>2.0</td>\n",
       "      <td>2.0</td>\n",
       "      <td>3.666667</td>\n",
       "    </tr>\n",
       "  </tbody>\n",
       "</table>\n",
       "</div>"
      ],
      "text/plain": [
       "  response_id     prompt  type  Annotator 2 - Information Quality  \\\n",
       "0      endoR0  no_prompt  endo                                  4   \n",
       "\n",
       "   Annotator 2 - Empathy  Annotator 2 - Actionability  \\\n",
       "0                      2                            2   \n",
       "\n",
       "   Annotator 3 - Information Quality  Annotator 3 - Empathy  \\\n",
       "0                                  3                      2   \n",
       "\n",
       "   Annotator 3 - Actionability  Specialist - Information Quality  \\\n",
       "0                            2                                 4   \n",
       "\n",
       "   Patient Average Information Quality  Patient Average Empathy  \\\n",
       "0                                  3.5                      2.0   \n",
       "\n",
       "   Patient Average Actionability  Average Information Quality  \n",
       "0                            2.0                     3.666667  "
      ]
     },
     "execution_count": 2,
     "metadata": {},
     "output_type": "execute_result"
    }
   ],
   "source": [
    "# some preprocessing to combine annotation datasets\n",
    "pat = pd.read_csv(os.path.join(out_dir, 'patient_annotations.csv'), usecols=range(4,13))\n",
    "doc = pd.read_csv(os.path.join(out_dir, 'specialist_annotations.csv'), usecols=range(4,8))\n",
    "merged = pd.merge(left=pat, left_on=['response_id', 'prompt', 'type'], right=doc, right_on=['response_id', 'prompt', 'type'])\n",
    "\n",
    "for column in [\"Information Quality\",\"Empathy\",\"Actionability\"]:\n",
    "    key_pat = f'Patient Average {column}'\n",
    "    key2 = f'Annotator 2 - {column}'\n",
    "    key3 = f'Annotator 3 - {column}'\n",
    "    merged[key_pat] = merged[[key2, key3]].mean(axis=1)\n",
    "\n",
    "column = \"Information Quality\"\n",
    "key_all = f'Average {column}'\n",
    "key1 = f'Specialist - {column}'\n",
    "key2 = f'Annotator 2 - {column}'\n",
    "key3 = f'Annotator 3 - {column}'\n",
    "merged[key_all] = merged[[key1, key2, key3]].mean(axis=1)\n",
    "\n",
    "print(len(pat))\n",
    "print(len(doc))\n",
    "\n",
    "merged[:1]"
   ]
  },
  {
   "cell_type": "code",
   "execution_count": 3,
   "metadata": {},
   "outputs": [],
   "source": [
    "endo = merged[(merged['type'] == 'endo') & (merged['prompt'] == 'no_prompt')]\n",
    "general = merged[(merged['type'] == 'general') & (merged['prompt'] == 'no_prompt')]"
   ]
  },
  {
   "cell_type": "code",
   "execution_count": 4,
   "metadata": {},
   "outputs": [
    {
     "data": {
      "image/png": "[encoded data removed]",
      "text/plain": [
       "<Figure size 266.667x500 with 1 Axes>"
      ]
     },
     "metadata": {},
     "output_type": "display_data"
    }
   ],
   "source": [
    "plt.figure(figsize=(8/3, 5))\n",
    "ax = sns.boxplot(data=merged[merged['prompt'] == 'no_prompt'], x=\"type\", y=\"Average Information Quality\")\n",
    "plt.ylim(0,5.5)\n",
    "ax.grid(color='grey', axis='y', linestyle='-', linewidth=0.25, alpha=0.5)\n",
    "ax.set_xticklabels(['Endometriosis', 'General'])\n",
    "ax.set_xlabel('Medical Concern')\n",
    "ax.set_ylabel('Average Information Quality')\n",
    "plt.title(f'Information Quality')\n",
    "plt.savefig(os.path.join(fig_dir, f'endovsgen.png'), dpi = 300, bbox_inches = \"tight\")\n",
    "plt.show()"
   ]
  },
  {
   "cell_type": "markdown",
   "metadata": {},
   "source": [
    "### Information Quality averaged across three annotators"
   ]
  },
  {
   "cell_type": "code",
   "execution_count": 5,
   "metadata": {},
   "outputs": [
    {
     "data": {
      "text/plain": [
       "MannwhitneyuResult(statistic=3630.0, pvalue=0.005153664983629505)"
      ]
     },
     "execution_count": 5,
     "metadata": {},
     "output_type": "execute_result"
    }
   ],
   "source": [
    "stats.mannwhitneyu(endo['Average Information Quality'].values, general['Average Information Quality'].values, alternative='two-sided')"
   ]
  },
  {
   "cell_type": "code",
   "execution_count": 6,
   "metadata": {},
   "outputs": [
    {
     "data": {
      "text/plain": [
       "WilcoxonResult(statistic=1353.0, pvalue=0.017158363472872282)"
      ]
     },
     "execution_count": 6,
     "metadata": {},
     "output_type": "execute_result"
    }
   ],
   "source": [
    "stats.wilcoxon(endo['Average Information Quality'].values, general['Average Information Quality'].values, alternative='two-sided')"
   ]
  },
  {
   "cell_type": "markdown",
   "metadata": {},
   "source": [
    "# Endo vs General: Patient Ratings"
   ]
  },
  {
   "cell_type": "code",
   "execution_count": 7,
   "metadata": {},
   "outputs": [
    {
     "data": {
      "image/png": "[encoded data removed]",
      "text/plain": [
       "<Figure size 800x500 with 3 Axes>"
      ]
     },
     "metadata": {},
     "output_type": "display_data"
    }
   ],
   "source": [
    "_figure = plt.figure(figsize = (8,5), tight_layout=0.5)\n",
    "# plt.suptitle(f'Information Quality for Endomentriosis vs General\\nResponses According to {annotator_type}', size=15)\n",
    "pos = 1\n",
    "\n",
    "for metric in [\"Patient Average Information Quality\",\"Patient Average Empathy\",\"Patient Average Actionability\"]:\n",
    "\n",
    "    _figure.add_subplot(1,3,pos)\n",
    "    data = merged[merged['prompt'] == 'no_prompt']\n",
    "\n",
    "    ax = sns.boxplot(data=data, x='type', y=metric)\n",
    "    \n",
    "    box1 = ax.patches[0]\n",
    "    box1.set_facecolor(sns.color_palette('Blues')[2])   \n",
    "    box2 = ax.patches[1]\n",
    "    box2.set_facecolor(sns.color_palette('Oranges')[2])\n",
    "\n",
    "    ax.set_xticklabels(['Endometriosis', 'General'])\n",
    "    ax.set_xlabel('Response Type')\n",
    "    ax.tick_params(axis='x', labelrotation=30)\n",
    "    ax.set_xlabel(f'')\n",
    "    ax.set_ylim(0,5.5)\n",
    "\n",
    "    if pos == 2:\n",
    "        ax.set_ylabel('')\n",
    "        ax.yaxis.set_tick_params(color='white')\n",
    "        ax.set_yticklabels([])\n",
    "\n",
    "    else:\n",
    "        ax.set_ylabel(f'Score')\n",
    "\n",
    "    if pos == 3:\n",
    "        ax.set_ylim(0,3.5)\n",
    "        ax.set_yticks([0,1,2,3])\n",
    "    \n",
    "    ax.grid(color='grey', axis='y', linestyle='-', linewidth=0.25, alpha=0.5)\n",
    "    plt.title(f'{metric}')\n",
    "    pos += 1\n",
    "\n",
    "_figure.savefig(os.path.join(fig_dir, f'endovsgen_patients.png'), dpi = 300, bbox_inches = \"tight\")"
   ]
  },
  {
   "cell_type": "markdown",
   "metadata": {},
   "source": [
    "## Stats"
   ]
  },
  {
   "cell_type": "markdown",
   "metadata": {},
   "source": [
    "### Information Quality"
   ]
  },
  {
   "cell_type": "code",
   "execution_count": 8,
   "metadata": {},
   "outputs": [
    {
     "data": {
      "text/plain": [
       "MannwhitneyuResult(statistic=4442.0, pvalue=0.4869515862092406)"
      ]
     },
     "execution_count": 8,
     "metadata": {},
     "output_type": "execute_result"
    }
   ],
   "source": [
    "stats.mannwhitneyu(endo['Patient Average Information Quality'].values, general['Patient Average Information Quality'].values, alternative='two-sided')"
   ]
  },
  {
   "cell_type": "code",
   "execution_count": 9,
   "metadata": {},
   "outputs": [
    {
     "data": {
      "text/plain": [
       "WilcoxonResult(statistic=1190.5, pvalue=0.477420893979962)"
      ]
     },
     "execution_count": 9,
     "metadata": {},
     "output_type": "execute_result"
    }
   ],
   "source": [
    "stats.wilcoxon(endo['Patient Average Information Quality'].values, general['Patient Average Information Quality'].values, alternative='two-sided')"
   ]
  },
  {
   "cell_type": "markdown",
   "metadata": {},
   "source": [
    "### Empathy"
   ]
  },
  {
   "cell_type": "code",
   "execution_count": 10,
   "metadata": {},
   "outputs": [
    {
     "data": {
      "text/plain": [
       "MannwhitneyuResult(statistic=5614.0, pvalue=0.013773931653087056)"
      ]
     },
     "execution_count": 10,
     "metadata": {},
     "output_type": "execute_result"
    }
   ],
   "source": [
    "stats.mannwhitneyu(endo['Patient Average Empathy'].values, general['Patient Average Empathy'].values, alternative='two-sided')"
   ]
  },
  {
   "cell_type": "code",
   "execution_count": 11,
   "metadata": {},
   "outputs": [
    {
     "data": {
      "text/plain": [
       "WilcoxonResult(statistic=799.0, pvalue=0.003371616137229375)"
      ]
     },
     "execution_count": 11,
     "metadata": {},
     "output_type": "execute_result"
    }
   ],
   "source": [
    "stats.wilcoxon(endo['Patient Average Empathy'].values, general['Patient Average Empathy'].values, alternative='two-sided')"
   ]
  },
  {
   "cell_type": "markdown",
   "metadata": {},
   "source": [
    "### Actionability"
   ]
  },
  {
   "cell_type": "code",
   "execution_count": 12,
   "metadata": {},
   "outputs": [
    {
     "data": {
      "text/plain": [
       "MannwhitneyuResult(statistic=4983.0, pvalue=0.42933005943376856)"
      ]
     },
     "execution_count": 12,
     "metadata": {},
     "output_type": "execute_result"
    }
   ],
   "source": [
    "stats.mannwhitneyu(endo['Patient Average Actionability'].values, general['Patient Average Actionability'].values, alternative='two-sided')"
   ]
  },
  {
   "cell_type": "code",
   "execution_count": 13,
   "metadata": {},
   "outputs": [
    {
     "data": {
      "text/plain": [
       "WilcoxonResult(statistic=999.0, pvalue=0.7770474009161459)"
      ]
     },
     "execution_count": 13,
     "metadata": {},
     "output_type": "execute_result"
    }
   ],
   "source": [
    "stats.wilcoxon(endo['Patient Average Actionability'].values, general['Patient Average Actionability'].values, alternative='two-sided')"
   ]
  },
  {
   "cell_type": "markdown",
   "metadata": {},
   "source": [
    "# Endo vs General: Specialist Rating"
   ]
  },
  {
   "cell_type": "code",
   "execution_count": 14,
   "metadata": {},
   "outputs": [
    {
     "data": {
      "image/png": "[encoded data removed]",
      "text/plain": [
       "<Figure size 266.667x500 with 1 Axes>"
      ]
     },
     "metadata": {},
     "output_type": "display_data"
    }
   ],
   "source": [
    "plt.figure(figsize=(8/3, 5))\n",
    "ax = sns.boxplot(data=doc[doc['prompt'] == 'no_prompt'], x=\"type\", y=\"Specialist - Information Quality\")\n",
    "plt.ylim(0,5.5)\n",
    "ax.grid(color='grey', axis='y', linestyle='-', linewidth=0.25, alpha=0.5)\n",
    "ax.set_xticklabels(['Endometriosis', 'General'])\n",
    "ax.set_xlabel('Medical Concern')\n",
    "ax.set_ylabel('Average Information Quality')\n",
    "plt.title(f'Information Quality')\n",
    "plt.savefig(os.path.join(fig_dir, f'endovsgen_specialist.png'), dpi = 300, bbox_inches = \"tight\")\n",
    "plt.show()"
   ]
  },
  {
   "cell_type": "markdown",
   "metadata": {},
   "source": [
    "### Chi-squared Test"
   ]
  },
  {
   "cell_type": "code",
   "execution_count": 15,
   "metadata": {},
   "outputs": [],
   "source": [
    "def create_contingency_table(data, column):\n",
    "    \n",
    "    count_info_d = {'endo':[], 'general':[]}\n",
    "\n",
    "    for concern in ['endo', 'general']:\n",
    "        df = data[(data['type'] == concern) & (data['prompt'] == 'no_prompt')]\n",
    "        count_info_d[concern].append(len(df))\n",
    "\n",
    "        for score in sorted(df[column].unique(), reverse=True):\n",
    "            count = len(df[df[column] == score])\n",
    "            count_info_d[concern].append(count)\n",
    "\n",
    "    labels = ['Total'] + [f'Score {str(x)}' for x in sorted(df[column].unique(), reverse=True)]\n",
    "    print(count_info_d)\n",
    "    counts = pd.DataFrame(count_info_d, index=labels)\n",
    "    \n",
    "    return counts"
   ]
  },
  {
   "cell_type": "code",
   "execution_count": 16,
   "metadata": {},
   "outputs": [
    {
     "name": "stdout",
     "output_type": "stream",
     "text": [
      "{'endo': [97, 10, 39, 32, 13, 3], 'general': [97, 31, 38, 19, 7, 2]}\n"
     ]
    },
    {
     "data": {
      "text/html": [
       "<div>\n",
       "<style scoped>\n",
       "    .dataframe tbody tr th:only-of-type {\n",
       "        vertical-align: middle;\n",
       "    }\n",
       "\n",
       "    .dataframe tbody tr th {\n",
       "        vertical-align: top;\n",
       "    }\n",
       "\n",
       "    .dataframe thead th {\n",
       "        text-align: right;\n",
       "    }\n",
       "</style>\n",
       "<table border=\"1\" class=\"dataframe\">\n",
       "  <thead>\n",
       "    <tr style=\"text-align: right;\">\n",
       "      <th></th>\n",
       "      <th>endo</th>\n",
       "      <th>general</th>\n",
       "    </tr>\n",
       "  </thead>\n",
       "  <tbody>\n",
       "    <tr>\n",
       "      <th>Total</th>\n",
       "      <td>97</td>\n",
       "      <td>97</td>\n",
       "    </tr>\n",
       "    <tr>\n",
       "      <th>Score 5</th>\n",
       "      <td>10</td>\n",
       "      <td>31</td>\n",
       "    </tr>\n",
       "    <tr>\n",
       "      <th>Score 4</th>\n",
       "      <td>39</td>\n",
       "      <td>38</td>\n",
       "    </tr>\n",
       "    <tr>\n",
       "      <th>Score 3</th>\n",
       "      <td>32</td>\n",
       "      <td>19</td>\n",
       "    </tr>\n",
       "    <tr>\n",
       "      <th>Score 2</th>\n",
       "      <td>13</td>\n",
       "      <td>7</td>\n",
       "    </tr>\n",
       "    <tr>\n",
       "      <th>Score 1</th>\n",
       "      <td>3</td>\n",
       "      <td>2</td>\n",
       "    </tr>\n",
       "  </tbody>\n",
       "</table>\n",
       "</div>"
      ],
      "text/plain": [
       "         endo  general\n",
       "Total      97       97\n",
       "Score 5    10       31\n",
       "Score 4    39       38\n",
       "Score 3    32       19\n",
       "Score 2    13        7\n",
       "Score 1     3        2"
      ]
     },
     "execution_count": 16,
     "metadata": {},
     "output_type": "execute_result"
    }
   ],
   "source": [
    "create_contingency_table(merged, 'Specialist - Information Quality')"
   ]
  },
  {
   "cell_type": "code",
   "execution_count": 17,
   "metadata": {},
   "outputs": [
    {
     "ename": "NameError",
     "evalue": "name 'counts' is not defined",
     "output_type": "error",
     "traceback": [
      "\u001b[0;31m---------------------------------------------------------------------------\u001b[0m",
      "\u001b[0;31mNameError\u001b[0m                                 Traceback (most recent call last)",
      "Cell \u001b[0;32mIn[17], line 1\u001b[0m\n\u001b[0;32m----> 1\u001b[0m res \u001b[38;5;241m=\u001b[39m stats\u001b[38;5;241m.\u001b[39mchi2_contingency(\u001b[43mcounts\u001b[49m)\n\u001b[1;32m      2\u001b[0m \u001b[38;5;28mprint\u001b[39m(\u001b[38;5;124mf\u001b[39m\u001b[38;5;124m'\u001b[39m\u001b[38;5;124mStatistic: \u001b[39m\u001b[38;5;132;01m{\u001b[39;00mres\u001b[38;5;241m.\u001b[39mstatistic\u001b[38;5;132;01m}\u001b[39;00m\u001b[38;5;124m'\u001b[39m, \u001b[38;5;124mf\u001b[39m\u001b[38;5;124m'\u001b[39m\u001b[38;5;124mP-Value: \u001b[39m\u001b[38;5;132;01m{\u001b[39;00mres\u001b[38;5;241m.\u001b[39mpvalue\u001b[38;5;132;01m}\u001b[39;00m\u001b[38;5;124m'\u001b[39m, res\u001b[38;5;241m.\u001b[39mdof, \u001b[38;5;124m'\u001b[39m\u001b[38;5;130;01m\\n\u001b[39;00m\u001b[38;5;124m'\u001b[39m, res\u001b[38;5;241m.\u001b[39mexpected_freq)\n",
      "\u001b[0;31mNameError\u001b[0m: name 'counts' is not defined"
     ]
    }
   ],
   "source": [
    "res = stats.chi2_contingency(counts)\n",
    "print(f'Statistic: {res.statistic}', f'P-Value: {res.pvalue}', res.dof, '\\n', res.expected_freq)"
   ]
  },
  {
   "cell_type": "markdown",
   "metadata": {},
   "source": [
    "### Stats"
   ]
  },
  {
   "cell_type": "code",
   "execution_count": 18,
   "metadata": {},
   "outputs": [
    {
     "data": {
      "text/plain": [
       "MannwhitneyuResult(statistic=3314.5, pvalue=0.00019329769974871488)"
      ]
     },
     "execution_count": 18,
     "metadata": {},
     "output_type": "execute_result"
    }
   ],
   "source": [
    "stats.mannwhitneyu(endo['Specialist - Information Quality'].values, general['Specialist - Information Quality'].values, alternative='two-sided')"
   ]
  },
  {
   "cell_type": "code",
   "execution_count": 19,
   "metadata": {},
   "outputs": [
    {
     "data": {
      "text/plain": [
       "WilcoxonResult(statistic=808.0, pvalue=0.0012659791867267226)"
      ]
     },
     "execution_count": 19,
     "metadata": {},
     "output_type": "execute_result"
    }
   ],
   "source": [
    "stats.wilcoxon(endo['Specialist - Information Quality'].values, general['Specialist - Information Quality'].values, alternative='two-sided')"
   ]
  },
  {
   "cell_type": "markdown",
   "metadata": {},
   "source": [
    "# Bootstrapping"
   ]
  },
  {
   "cell_type": "code",
   "execution_count": 2,
   "metadata": {},
   "outputs": [],
   "source": [
    "def bootstrap(dataslice):\n",
    "\n",
    "  # Bootstrap calculations\n",
    "  trials = 1000\n",
    "  bootstrapped_means = []\n",
    "  k = len(dataslice)\n",
    "  for i in range(trials):\n",
    "    sample = dataslice.sample(n=k, replace=True)\n",
    "    mean = sample.mean()\n",
    "    bootstrapped_means.append(mean)\n",
    "\n",
    "  sort = sorted(bootstrapped_means)\n",
    "  low = sort[int(trials*0.025)]\n",
    "  high = sort[int(trials*0.975)]\n",
    "\n",
    "  return low, high"
   ]
  },
  {
   "cell_type": "code",
   "execution_count": null,
   "metadata": {},
   "outputs": [],
   "source": [
    "no_prompt = merged[merged['prompt'] == 'no_prompt'].copy()"
   ]
  },
  {
   "cell_type": "code",
   "execution_count": 23,
   "metadata": {},
   "outputs": [
    {
     "name": "stdout",
     "output_type": "stream",
     "text": [
      "endo \t\t Average Information Quality \t 3.31 [3.19, 3.42]\n",
      "general \t Average Information Quality \t 3.51 [3.4, 3.62]\n",
      "endo \t\t Specialist - Information Quality \t 3.41 [3.22, 3.61]\n",
      "general \t Specialist - Information Quality \t 3.92 [3.74, 4.13]\n",
      "endo \t\t Patient Average Information Quality \t 3.25 [3.14, 3.36]\n",
      "general \t Patient Average Information Quality \t 3.3 [3.19, 3.4]\n",
      "endo \t\t Patient Average Empathy \t 2.79 [2.64, 2.94]\n",
      "general \t Patient Average Empathy \t 2.49 [2.4, 2.59]\n",
      "endo \t\t Patient Average Actionability \t 2.12 [2.04, 2.21]\n",
      "general \t Patient Average Actionability \t 2.09 [2.02, 2.17]\n"
     ]
    }
   ],
   "source": [
    "for annotator in ['Average ', 'Specialist - ', 'Patient Average ']:\n",
    "    for metric in [\"Information Quality\", \"Empathy\", \"Actionability\"]:\n",
    "        for res_type in ['endo', 'general']:\n",
    "            df = no_prompt[(no_prompt['type']==res_type)]\n",
    "            key = annotator+metric\n",
    "            if key in df.columns:\n",
    "                values = df[key]\n",
    "                mean = values.mean()\n",
    "                ci_low, ci_high = bootstrap(df[key])\n",
    "                if res_type == 'endo':\n",
    "                    print(res_type, '\\t\\t', annotator+metric, '\\t', round(mean, 2), f'[{round(ci_low,2)}, {round(ci_high,2)}]')\n",
    "                else:\n",
    "                    print(res_type, '\\t', annotator+metric, '\\t', round(mean, 2), f'[{round(ci_low,2)}, {round(ci_high,2)}]')"
   ]
  },
  {
   "cell_type": "code",
   "execution_count": 22,
   "metadata": {},
   "outputs": [
    {
     "name": "stdout",
     "output_type": "stream",
     "text": [
      "perc of non empathetic responses in endo responses 0.85\n",
      "perc of non empathetic responses in general responses 0.97\n"
     ]
    }
   ],
   "source": [
    "for t in ['endo', 'general']:\n",
    "    total = len(no_prompt[(no_prompt['type'] == t)])\n",
    "    slice = len(no_prompt[(no_prompt['type'] ==t)&(no_prompt['Patient Average Empathy']< 4)])\n",
    "    print(f'perc of non empathetic responses in {t} responses', round(slice/total, 2))"
   ]
  },
  {
   "cell_type": "markdown",
   "metadata": {},
   "source": [
    "# Qualitative Analysis"
   ]
  },
  {
   "cell_type": "code",
   "execution_count": 23,
   "metadata": {},
   "outputs": [],
   "source": [
    "endo = merged[(merged['type'] == 'endo') & (merged['prompt'] == 'no_prompt')]['Specialist - Information Quality'].values\n",
    "general = merged[(merged['type'] == 'general') & (merged['prompt'] == 'no_prompt')]['Specialist - Information Quality'].values"
   ]
  },
  {
   "cell_type": "code",
   "execution_count": null,
   "metadata": {},
   "outputs": [],
   "source": []
  }
 ],
 "metadata": {
  "kernelspec": {
   "display_name": "nlp",
   "language": "python",
   "name": "python3"
  },
  "language_info": {
   "codemirror_mode": {
    "name": "ipython",
    "version": 3
   },
   "file_extension": ".py",
   "mimetype": "text/x-python",
   "name": "python",
   "nbconvert_exporter": "python",
   "pygments_lexer": "ipython3",
   "version": "3.10.14"
  }
 },
 "nbformat": 4,
 "nbformat_minor": 2
}
