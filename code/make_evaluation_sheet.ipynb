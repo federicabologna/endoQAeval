{
 "cells": [
  {
   "cell_type": "code",
   "execution_count": 1,
   "metadata": {},
   "outputs": [],
   "source": [
    "# Imports\n",
    "import time\n",
    "import os\n",
    "import glob\n",
    "import csv\n",
    "import numpy as np\n",
    "import pandas as pd\n",
    "import openai\n",
    "import ray\n",
    "from   sklearn.metrics import confusion_matrix, ConfusionMatrixDisplay, accuracy_score, classification_report\n",
    "import matplotlib.pyplot as plt\n",
    "import seaborn as sns\n",
    "\n",
    "# File locations\n",
    "dir = os.getcwd()\n",
    "out_dir = os.path.join(dir, 'output')\n",
    "fig_dir = os.path.join(dir, 'figures')"
   ]
  },
  {
   "cell_type": "markdown",
   "metadata": {},
   "source": [
    "## Endo sheet"
   ]
  },
  {
   "cell_type": "code",
   "execution_count": null,
   "metadata": {},
   "outputs": [],
   "source": [
    "main_df = pd.read_csv(os.path.join(dir, 'data', 'endo_questions.csv'))\n",
    "main_df.set_index('id', inplace=True)\n",
    "main_df[:1]"
   ]
  },
  {
   "cell_type": "code",
   "execution_count": null,
   "metadata": {},
   "outputs": [],
   "source": [
    "questions = [\"Information Quality\",\n",
    "             \"Empathy\",\n",
    "             \"Actionability\"]"
   ]
  },
  {
   "cell_type": "code",
   "execution_count": null,
   "metadata": {},
   "outputs": [],
   "source": [
    "with open(os.path.join(out_dir, 'endo_responses_evaluation.csv'), 'w') as csvfile:\n",
    "    csvwriter = csv.writer(csvfile)\n",
    "    row = [\"question_id\", \"question\", \"response\"] + questions\n",
    "    filler = ['', '', '']\n",
    "    csvwriter.writerow(row)\n",
    "\n",
    "    for question_id, row in main_df.iterrows():\n",
    "        file = os.path.join(out_dir, 'endo_responses', f'{question_id}-responses.csv')\n",
    "\n",
    "        responsedf = pd.read_csv(file)\n",
    "        \n",
    "        question_text = main_df.loc[question_id][1]\n",
    "        response1 = responsedf.iloc[0][2] \n",
    "        response2 = responsedf.iloc[1][2]\n",
    "        response3 = responsedf.iloc[2][2]\n",
    "        \n",
    "        row1 = [question_id, question_text, response1]\n",
    "        row2 = ['', '', response2] + filler\n",
    "        row3 = ['', '', response3] + filler\n",
    "        csvwriter.writerows([row1,row2,row3])"
   ]
  },
  {
   "cell_type": "markdown",
   "metadata": {},
   "source": [
    "## General sheet"
   ]
  },
  {
   "cell_type": "code",
   "execution_count": 2,
   "metadata": {},
   "outputs": [
    {
     "data": {
      "text/html": [
       "<div>\n",
       "<style scoped>\n",
       "    .dataframe tbody tr th:only-of-type {\n",
       "        vertical-align: middle;\n",
       "    }\n",
       "\n",
       "    .dataframe tbody tr th {\n",
       "        vertical-align: top;\n",
       "    }\n",
       "\n",
       "    .dataframe thead th {\n",
       "        text-align: right;\n",
       "    }\n",
       "</style>\n",
       "<table border=\"1\" class=\"dataframe\">\n",
       "  <thead>\n",
       "    <tr style=\"text-align: right;\">\n",
       "      <th></th>\n",
       "      <th>reddit_id</th>\n",
       "      <th>text</th>\n",
       "      <th>text_with_title</th>\n",
       "      <th>link</th>\n",
       "    </tr>\n",
       "    <tr>\n",
       "      <th>id</th>\n",
       "      <th></th>\n",
       "      <th></th>\n",
       "      <th></th>\n",
       "      <th></th>\n",
       "    </tr>\n",
       "  </thead>\n",
       "  <tbody>\n",
       "    <tr>\n",
       "      <th>N2</th>\n",
       "      <td>y4fxjx</td>\n",
       "      <td>28F, ex smoker, no drinking, 5'3\", 200lbs. Its...</td>\n",
       "      <td>My arms sometimes hurt when I sneeze? 28F, ex ...</td>\n",
       "      <td>https://www.reddit.com/r/AskDocs/comments/y4fxjx</td>\n",
       "    </tr>\n",
       "  </tbody>\n",
       "</table>\n",
       "</div>"
      ],
      "text/plain": [
       "   reddit_id                                               text  \\\n",
       "id                                                                \n",
       "N2    y4fxjx  28F, ex smoker, no drinking, 5'3\", 200lbs. Its...   \n",
       "\n",
       "                                      text_with_title  \\\n",
       "id                                                      \n",
       "N2  My arms sometimes hurt when I sneeze? 28F, ex ...   \n",
       "\n",
       "                                                link  \n",
       "id                                                    \n",
       "N2  https://www.reddit.com/r/AskDocs/comments/y4fxjx  "
      ]
     },
     "execution_count": 2,
     "metadata": {},
     "output_type": "execute_result"
    }
   ],
   "source": [
    "main_df = pd.read_csv(os.path.join(dir, 'data', 'general_questions.csv'))\n",
    "main_df.set_index('id', inplace=True)\n",
    "main_df[:1]"
   ]
  },
  {
   "cell_type": "code",
   "execution_count": 3,
   "metadata": {},
   "outputs": [],
   "source": [
    "questions = [\"Information Quality\",\n",
    "             \"Empathy\",\n",
    "             \"Actionability\"]"
   ]
  },
  {
   "cell_type": "code",
   "execution_count": 5,
   "metadata": {},
   "outputs": [],
   "source": [
    "with open(os.path.join(out_dir, 'general_responses_evaluation.csv'), 'w') as csvfile:\n",
    "    csvwriter = csv.writer(csvfile)\n",
    "    csvwriter.writerow([\"question_id\", \"question\", \"response\"])\n",
    "\n",
    "    for question_id, row in main_df.iterrows():\n",
    "        file = os.path.join(out_dir, 'general_responses', f'{question_id}-responses.csv')\n",
    "\n",
    "        responsedf = pd.read_csv(file)\n",
    "        \n",
    "        question_text = row['text']\n",
    "        response = responsedf.iloc[0][2]\n",
    "        csvwriter.writerow([question_id, question_text, response])"
   ]
  },
  {
   "cell_type": "markdown",
   "metadata": {},
   "source": [
    "## Replication sheet"
   ]
  },
  {
   "cell_type": "code",
   "execution_count": null,
   "metadata": {},
   "outputs": [],
   "source": [
    "og_df = pd.read_csv(os.path.join(dir, 'data', 'ayers2023.csv'))\n",
    "og_df.set_index('postID', inplace=True)\n",
    "og_df[:1]"
   ]
  },
  {
   "cell_type": "code",
   "execution_count": null,
   "metadata": {},
   "outputs": [],
   "source": [
    "main_df = pd.read_csv(os.path.join(dir, 'data', 'general_questions.csv'))\n",
    "main_df.rename(columns={'full post':'text'}, inplace=True)\n",
    "ids = []\n",
    "for q in main_df['text']:\n",
    "    for index, row in og_df.iterrows():\n",
    "        if q == row['Question']:\n",
    "            ids.append(index)\n",
    "main_df['id'] = ids\n",
    "main_df.set_index('id', inplace=True)\n",
    "main_df[:1]"
   ]
  },
  {
   "cell_type": "code",
   "execution_count": null,
   "metadata": {},
   "outputs": [],
   "source": [
    "with open(os.path.join(out_dir, 'general_responses_evaluation.csv'), 'w') as csvfile:\n",
    "    csvwriter = csv.writer(csvfile)\n",
    "    row = [\"question_id\", \"question\", \"response\"]\n",
    "    csvwriter.writerow(row)\n",
    "\n",
    "    for index, row in main_df.iterrows():\n",
    "        question_id = index\n",
    "        question_text = row['text']\n",
    "        responsedf = pd.read_csv(os.path.join(out_dir, 'replication_ayers', f'replication_ayers_{question_id}.csv'))\n",
    "        response1 = responsedf.iloc[0][2]\n",
    "        # print(question_id)\n",
    "        # print(question_text)\n",
    "        # print(response1)\n",
    "        row1 = [question_id, question_text, response1]\n",
    "        csvwriter.writerow(row1)"
   ]
  }
 ],
 "metadata": {
  "kernelspec": {
   "display_name": "nlp",
   "language": "python",
   "name": "python3"
  },
  "language_info": {
   "codemirror_mode": {
    "name": "ipython",
    "version": 3
   },
   "file_extension": ".py",
   "mimetype": "text/x-python",
   "name": "python",
   "nbconvert_exporter": "python",
   "pygments_lexer": "ipython3",
   "version": "3.10.9"
  }
 },
 "nbformat": 4,
 "nbformat_minor": 2
}
