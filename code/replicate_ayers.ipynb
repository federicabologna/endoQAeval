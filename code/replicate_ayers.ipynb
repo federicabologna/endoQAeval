{
  "cells": [
    {
      "cell_type": "code",
      "execution_count": 1,
      "metadata": {
        "id": "8c0030a3-4550-4d15-9cf7-a5f55afd3f25"
      },
      "outputs": [],
      "source": [
        "# Imports\n",
        "import time\n",
        "import os\n",
        "import csv\n",
        "import numpy as np\n",
        "import pandas as pd\n",
        "import openai\n",
        "import ray\n",
        "from   sklearn.metrics import confusion_matrix, ConfusionMatrixDisplay, accuracy_score, classification_report\n",
        "import matplotlib.pyplot as plt\n",
        "import seaborn as sns\n",
        "\n",
        "# File locations\n",
        "dir = '/Users/Federica/Documents/PhD/generative_patient'\n",
        "out_dir = os.path.join(dir, 'output')\n",
        "fig_dir = os.path.join(dir, 'figures')\n",
        "os.makedirs(fig_dir, exist_ok=True)\n",
        "os.makedirs(out_dir, exist_ok=True)\n",
        "\n",
        "# # Plotting options\n",
        "# figsize_std = (12,8)\n",
        "# sns.set(context='talk', rc={'figure.figsize':figsize_std})\n",
        "# sns.set_style('whitegrid', {'grid.color': '.9'})\n",
        "# plt.rc('figure', figsize=figsize_std)\n",
        "# plt.rcParams['figure.figsize'] = figsize_std"
      ]
    },
    {
      "cell_type": "markdown",
      "metadata": {
        "id": "120d9c49-f5ca-4037-9fc9-b8372001fdde"
      },
      "source": [
        "## Data"
      ]
    },
    {
      "cell_type": "code",
      "execution_count": null,
      "metadata": {
        "colab": {
          "base_uri": "https://localhost:8080/",
          "height": 269
        },
        "id": "b0692713-e926-406a-afbe-109fa7412a8c",
        "outputId": "3a0183ac-fa65-488d-f353-fec305f8ed4e"
      },
      "outputs": [],
      "source": [
        "# Read texts and gold labels from Google Sheets\n",
        "ayers = pd.read_csv(os.path.join(dir, 'data', 'ayers2023.csv'))\n",
        "print(len(ayers))\n",
        "ayers[:1]"
      ]
    },
    {
      "cell_type": "markdown",
      "metadata": {
        "id": "Cdw22G1f5ZKJ"
      },
      "source": [
        "## Test"
      ]
    },
    {
      "cell_type": "code",
      "execution_count": 2,
      "metadata": {
        "colab": {
          "base_uri": "https://localhost:8080/",
          "height": 295
        },
        "id": "k9Qc8tsL26q2",
        "outputId": "d79f348f-dbb2-4a55-8e65-905f687ed8e8"
      },
      "outputs": [],
      "source": [
        "openai.api_type = 'azure'\n",
        "openai.api_version = '2023-05-15'\n",
        "openai.api_key = open(os.path.join('/Users/Federica/Documents/PhD/apikeys', 'endoqa-key.txt')).read().strip()\n",
        "openai.api_base = 'https://endoqa-cornell.openai.azure.com/' # your endpoint should look like the following https://YOUR_RESOURCE_NAME.openai.azure.com/"
      ]
    },
    {
      "cell_type": "markdown",
      "metadata": {},
      "source": [
        "## Check Title"
      ]
    },
    {
      "cell_type": "code",
      "execution_count": 4,
      "metadata": {},
      "outputs": [
        {
          "name": "stdout",
          "output_type": "stream",
          "text": [
            "10\n"
          ]
        },
        {
          "data": {
            "text/html": [
              "<div>\n",
              "<style scoped>\n",
              "    .dataframe tbody tr th:only-of-type {\n",
              "        vertical-align: middle;\n",
              "    }\n",
              "\n",
              "    .dataframe tbody tr th {\n",
              "        vertical-align: top;\n",
              "    }\n",
              "\n",
              "    .dataframe thead th {\n",
              "        text-align: right;\n",
              "    }\n",
              "</style>\n",
              "<table border=\"1\" class=\"dataframe\">\n",
              "  <thead>\n",
              "    <tr style=\"text-align: right;\">\n",
              "      <th></th>\n",
              "      <th>id</th>\n",
              "      <th>reddit_id</th>\n",
              "      <th>question_with_title</th>\n",
              "      <th>question_without_title</th>\n",
              "    </tr>\n",
              "  </thead>\n",
              "  <tbody>\n",
              "    <tr>\n",
              "      <th>0</th>\n",
              "      <td>N19</td>\n",
              "      <td>xy6ur0</td>\n",
              "      <td>First T/C seizure, then first migraine less th...</td>\n",
              "      <td>So, on September 17 I (21F) had an unprovoked,...</td>\n",
              "    </tr>\n",
              "  </tbody>\n",
              "</table>\n",
              "</div>"
            ],
            "text/plain": [
              "    id reddit_id                                question_with_title  \\\n",
              "0  N19    xy6ur0  First T/C seizure, then first migraine less th...   \n",
              "\n",
              "                              question_without_title  \n",
              "0  So, on September 17 I (21F) had an unprovoked,...  "
            ]
          },
          "execution_count": 4,
          "metadata": {},
          "output_type": "execute_result"
        }
      ],
      "source": [
        "# Read csv with posts without and with title\n",
        "df = pd.read_csv(os.path.join(dir, 'data', 'general_title_check.csv'))\n",
        "print(len(df))\n",
        "df[:1]"
      ]
    },
    {
      "cell_type": "code",
      "execution_count": 5,
      "metadata": {},
      "outputs": [],
      "source": [
        "# send API request to OpenAI's API to receive generated answers to questions\n",
        "\n",
        "def get_response(_prompt, model='gpt4', _max_tokens=500):\n",
        "\n",
        "    attempts = 0\n",
        "    max_attempts = 3\n",
        "    system__prompt = ''''''  ## for few-shot\n",
        "    response = 'None'\n",
        "\n",
        "    while attempts < max_attempts:\n",
        "        try:\n",
        "            response = openai.ChatCompletion.create(\n",
        "                engine=model,\n",
        "                max_tokens=_max_tokens,\n",
        "                messages = [\n",
        "                    #{'role': 'system', 'content': system__prompt},\n",
        "                    {'role': 'user', 'content': _prompt}\n",
        "                ]\n",
        "            )\n",
        "            _answer = response['choices'][0]['message']['content'].strip().lower()\n",
        "        except Exception as e:\n",
        "            print(f'Error {e}. Sleeping 3 seconds ...')\n",
        "            time.sleep(3)\n",
        "            if attempts == max_attempts-1:\n",
        "                _answer = f'Error {e}'\n",
        "        attempts += 1\n",
        "        if model == 'gpt4':\n",
        "            time.sleep(2)\n",
        "        else:\n",
        "            time.sleep(0.5)\n",
        "\n",
        "    return _answer"
      ]
    },
    {
      "cell_type": "markdown",
      "metadata": {},
      "source": [
        "# Check if adding title to content of post changes answers"
      ]
    },
    {
      "cell_type": "code",
      "execution_count": 11,
      "metadata": {},
      "outputs": [
        {
          "name": "stdout",
          "output_type": "stream",
          "text": [
            "N19 196.54555487632751\n",
            "N36 230.16460990905762\n",
            "N38 348.6210079193115\n",
            "N55 269.67299580574036\n",
            "N61 185.44123077392578\n",
            "N63 71.6702389717102\n",
            "N68 344.6697030067444\n",
            "N71 194.7001781463623\n",
            "N96 282.9023599624634\n",
            "N92 168.0666229724884\n"
          ]
        },
        {
          "data": {
            "text/html": [
              "<div>\n",
              "<style scoped>\n",
              "    .dataframe tbody tr th:only-of-type {\n",
              "        vertical-align: middle;\n",
              "    }\n",
              "\n",
              "    .dataframe tbody tr th {\n",
              "        vertical-align: top;\n",
              "    }\n",
              "\n",
              "    .dataframe thead th {\n",
              "        text-align: right;\n",
              "    }\n",
              "</style>\n",
              "<table border=\"1\" class=\"dataframe\">\n",
              "  <thead>\n",
              "    <tr style=\"text-align: right;\">\n",
              "      <th></th>\n",
              "      <th>id</th>\n",
              "      <th>reddit_id</th>\n",
              "      <th>question_with_title</th>\n",
              "      <th>question_without_title</th>\n",
              "      <th>response_id</th>\n",
              "      <th>response_with_title</th>\n",
              "      <th>response_without_title</th>\n",
              "    </tr>\n",
              "  </thead>\n",
              "  <tbody>\n",
              "    <tr>\n",
              "      <th>0</th>\n",
              "      <td>N19</td>\n",
              "      <td>xy6ur0</td>\n",
              "      <td>First T/C seizure, then first migraine less th...</td>\n",
              "      <td>So, on September 17 I (21F) had an unprovoked,...</td>\n",
              "      <td>response_N19</td>\n",
              "      <td>i'm sorry to hear about what you're going thro...</td>\n",
              "      <td>i'm really sorry to hear about your experience...</td>\n",
              "    </tr>\n",
              "    <tr>\n",
              "      <th>1</th>\n",
              "      <td>N36</td>\n",
              "      <td>ye84b6</td>\n",
              "      <td>Stool problem! 21M, 103KG, white guy, currentl...</td>\n",
              "      <td>21M, 103KG, white guy, currently on head pain ...</td>\n",
              "      <td>response_N36</td>\n",
              "      <td>changes in frequency and consistency of bowel ...</td>\n",
              "      <td>there could be a few potential reasons why you...</td>\n",
              "    </tr>\n",
              "    <tr>\n",
              "      <th>2</th>\n",
              "      <td>N38</td>\n",
              "      <td>y2yo5s</td>\n",
              "      <td>hello Im 21. 48kg. 156 cm. Asian.\\nMy bf was d...</td>\n",
              "      <td>Im 21. 48kg. 156 cm. Asian.\\nMy bf was diagnos...</td>\n",
              "      <td>response_N38</td>\n",
              "      <td>i'm an ai language model, but i can provide so...</td>\n",
              "      <td>recurrent utis can be really frustrating to de...</td>\n",
              "    </tr>\n",
              "    <tr>\n",
              "      <th>3</th>\n",
              "      <td>N55</td>\n",
              "      <td>y4knve</td>\n",
              "      <td>Nerve pain and muscle twitching 21f with brach...</td>\n",
              "      <td>21f with brachial plexus injury from birth, I ...</td>\n",
              "      <td>response_N55</td>\n",
              "      <td>i'm not a doctor, but i can tell you that the ...</td>\n",
              "      <td>neuropathic pain is a common symptom of brachi...</td>\n",
              "    </tr>\n",
              "    <tr>\n",
              "      <th>4</th>\n",
              "      <td>N61</td>\n",
              "      <td>y19mau</td>\n",
              "      <td>Is it possible to lose eyesight and it mean no...</td>\n",
              "      <td>22F, 5‰Ûª6‰Û�,207lbs, caucausian. One time eve...</td>\n",
              "      <td>response_N61</td>\n",
              "      <td>i'm an ai and not a doctor, but this sounds  l...</td>\n",
              "      <td>i'm an ai language model and not a doctor but ...</td>\n",
              "    </tr>\n",
              "  </tbody>\n",
              "</table>\n",
              "</div>"
            ],
            "text/plain": [
              "    id reddit_id                                question_with_title  \\\n",
              "0  N19    xy6ur0  First T/C seizure, then first migraine less th...   \n",
              "1  N36    ye84b6  Stool problem! 21M, 103KG, white guy, currentl...   \n",
              "2  N38    y2yo5s  hello Im 21. 48kg. 156 cm. Asian.\\nMy bf was d...   \n",
              "3  N55    y4knve  Nerve pain and muscle twitching 21f with brach...   \n",
              "4  N61    y19mau  Is it possible to lose eyesight and it mean no...   \n",
              "\n",
              "                              question_without_title   response_id  \\\n",
              "0  So, on September 17 I (21F) had an unprovoked,...  response_N19   \n",
              "1  21M, 103KG, white guy, currently on head pain ...  response_N36   \n",
              "2  Im 21. 48kg. 156 cm. Asian.\\nMy bf was diagnos...  response_N38   \n",
              "3  21f with brachial plexus injury from birth, I ...  response_N55   \n",
              "4  22F, 5‰Ûª6‰Û�,207lbs, caucausian. One time eve...  response_N61   \n",
              "\n",
              "                                 response_with_title  \\\n",
              "0  i'm sorry to hear about what you're going thro...   \n",
              "1  changes in frequency and consistency of bowel ...   \n",
              "2  i'm an ai language model, but i can provide so...   \n",
              "3  i'm not a doctor, but i can tell you that the ...   \n",
              "4  i'm an ai and not a doctor, but this sounds  l...   \n",
              "\n",
              "                              response_without_title  \n",
              "0  i'm really sorry to hear about your experience...  \n",
              "1  there could be a few potential reasons why you...  \n",
              "2  recurrent utis can be really frustrating to de...  \n",
              "3  neuropathic pain is a common symptom of brachi...  \n",
              "4  i'm an ai language model and not a doctor but ...  "
            ]
          },
          "execution_count": 11,
          "metadata": {},
          "output_type": "execute_result"
        }
      ],
      "source": [
        "r_id = []\n",
        "r_title = []\n",
        "r_notitle = []\n",
        "for index, row in df.iterrows():\n",
        "\n",
        "    start = time.time()\n",
        "\n",
        "    id = row['id']\n",
        "    \n",
        "    n_tokens = 250\n",
        "    r_id.append(f'response_{id}')\n",
        "    r_title.append(get_response(row['question_with_title'], _max_tokens=n_tokens))\n",
        "    r_notitle.append(get_response(row['question_without_title'], _max_tokens=n_tokens))\n",
        "\n",
        "    end = time.time()  \n",
        "    print(id, end-start)\n",
        "\n",
        "df['response_id'] = r_id\n",
        "df['response_with_title'] = r_title\n",
        "df['response_without_title'] = r_notitle\n",
        "df.head()"
      ]
    },
    {
      "cell_type": "code",
      "execution_count": 12,
      "metadata": {},
      "outputs": [],
      "source": [
        "output_path = os.path.join(out_dir,  f'general_title_checked.csv')\n",
        "df.to_csv(output_path)"
      ]
    },
    {
      "cell_type": "markdown",
      "metadata": {
        "id": "3ad958e5-1e92-4943-82ec-73dece85c4a7"
      },
      "source": [
        "# Check if responses are consistent over multiple API requests"
      ]
    },
    {
      "cell_type": "code",
      "execution_count": null,
      "metadata": {
        "id": "fc48fe47-4204-439a-a2da-b2e359a193d1"
      },
      "outputs": [],
      "source": [
        "\n",
        "def get_response(_prompt, model='gpt4', _max_tokens=500):\n",
        "\n",
        "    attempts = 0\n",
        "    max_attempts = 3\n",
        "    system__prompt = ''''''  ## for few-shot\n",
        "    response = 'None'\n",
        "\n",
        "    while attempts < max_attempts:\n",
        "        try:\n",
        "            response = openai.ChatCompletion.create(\n",
        "                engine=model,\n",
        "                max_tokens=_max_tokens,\n",
        "                messages = [\n",
        "                    #{'role': 'system', 'content': system__prompt},\n",
        "                    {'role': 'user', 'content': _prompt}\n",
        "                ]\n",
        "            )\n",
        "            _answer = response['choices'][0]['message']['content'].strip().lower()\n",
        "        except Exception as e:\n",
        "            print(f'Error {e}. Sleeping 3 seconds ...')\n",
        "            time.sleep(3)\n",
        "        attempts += 1\n",
        "        if model == 'gpt4':\n",
        "            time.sleep(2)\n",
        "        else:\n",
        "            time.sleep(0.5)\n",
        "\n",
        "    return _answer"
      ]
    },
    {
      "cell_type": "code",
      "execution_count": null,
      "metadata": {
        "colab": {
          "base_uri": "https://localhost:8080/"
        },
        "id": "id9aniColce3",
        "outputId": "452256b5-ff09-4e80-a260-ba7c0a5a1681"
      },
      "outputs": [],
      "source": [
        "n_responses = 5\n",
        "output_path = os.path.join(out_dir,  f'replication_ayers.csv')\n",
        "if not os.path.exists(output_path):\n",
        "    with open(output_path, 'w') as csvfile:\n",
        "        csvwriter = csv.writer(csvfile)\n",
        "        row = ['id', 'question']\n",
        "        row.extend([f'r{n}' for n in range(1,n_responses+1)])\n",
        "        csvwriter.writerow(row)\n",
        "\n",
        "start = time.time()\n",
        "for index, row in ayers[:1].iterrows():\n",
        "\n",
        "  id = row['postID']\n",
        "  question = row['Question']\n",
        "  answers = []\n",
        "\n",
        "  for n in range(1,n_responses+1):\n",
        "    n_tokens = 500\n",
        "    answers.append(get_response(question, _max_tokens=n_tokens))\n",
        "\n",
        "  with open(output_path, 'a') as csvfile:\n",
        "      csvwriter = csv.writer(csvfile)\n",
        "      row = [id, question]\n",
        "      row.extend(answers)\n",
        "      csvwriter.writerow(row)\n",
        "\n",
        "end = time.time()  \n",
        "print(id, end-start)"
      ]
    },
    {
      "cell_type": "code",
      "execution_count": null,
      "metadata": {},
      "outputs": [],
      "source": []
    }
  ],
  "metadata": {
    "colab": {
      "collapsed_sections": [
        "598416b8-f765-4be4-8a0c-c9a9d9457b05",
        "414a9c4d-dafb-436c-af2b-7c1e9292acd2",
        "dd90e2b2-9ac0-4992-acf7-6258dd88c157",
        "f311503d-0409-42d2-a736-9346977e0b97",
        "5b2b3697-c889-48a4-8d5d-c4132c7cb7b1",
        "15bf1aa0-f1ba-45e9-b8c2-0792e0addb85",
        "be06d7b2-c37f-4769-a21d-04f339561629",
        "16ae829f-a648-46fd-b41e-9cafdea86aff",
        "MeLPf37CT-BW"
      ],
      "provenance": []
    },
    "kernelspec": {
      "display_name": "Python 3",
      "name": "python3"
    },
    "language_info": {
      "codemirror_mode": {
        "name": "ipython",
        "version": 3
      },
      "file_extension": ".py",
      "mimetype": "text/x-python",
      "name": "python",
      "nbconvert_exporter": "python",
      "pygments_lexer": "ipython3",
      "version": "3.10.9"
    }
  },
  "nbformat": 4,
  "nbformat_minor": 0
}
