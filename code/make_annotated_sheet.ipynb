{
 "cells": [
  {
   "cell_type": "code",
   "execution_count": 1,
   "metadata": {},
   "outputs": [],
   "source": [
    "# Imports\n",
    "import time\n",
    "import os\n",
    "import glob\n",
    "import csv\n",
    "import numpy as np\n",
    "import pandas as pd\n",
    "from scipy import stats\n",
    "\n",
    "# File locations\n",
    "dir = os.getcwd()\n",
    "out_dir = os.path.join(dir, 'output')\n",
    "fig_dir = os.path.join(dir, 'figures')"
   ]
  },
  {
   "cell_type": "code",
   "execution_count": 2,
   "metadata": {},
   "outputs": [],
   "source": [
    "def check_if_good(all):\n",
    "\n",
    "    new_all = []\n",
    "    good = ''\n",
    "    for x in all:\n",
    "        if not pd.isna(x):\n",
    "            good = x\n",
    "        new_all.append(good)\n",
    "\n",
    "    return new_all"
   ]
  },
  {
   "cell_type": "code",
   "execution_count": 3,
   "metadata": {},
   "outputs": [],
   "source": [
    "prompts = []\n",
    "for n in range(0,100):\n",
    "    prompts.extend(['no_prompt','doc_prompt','pat_prompt'])"
   ]
  },
  {
   "cell_type": "markdown",
   "metadata": {},
   "source": [
    "# Endo sheet"
   ]
  },
  {
   "cell_type": "code",
   "execution_count": 4,
   "metadata": {},
   "outputs": [
    {
     "data": {
      "text/html": [
       "<div>\n",
       "<style scoped>\n",
       "    .dataframe tbody tr th:only-of-type {\n",
       "        vertical-align: middle;\n",
       "    }\n",
       "\n",
       "    .dataframe tbody tr th {\n",
       "        vertical-align: top;\n",
       "    }\n",
       "\n",
       "    .dataframe thead th {\n",
       "        text-align: right;\n",
       "    }\n",
       "</style>\n",
       "<table border=\"1\" class=\"dataframe\">\n",
       "  <thead>\n",
       "    <tr style=\"text-align: right;\">\n",
       "      <th></th>\n",
       "      <th>question_id</th>\n",
       "      <th>question</th>\n",
       "      <th>response</th>\n",
       "      <th>Cut off</th>\n",
       "      <th>response_id</th>\n",
       "      <th>prompt</th>\n",
       "      <th>type</th>\n",
       "    </tr>\n",
       "  </thead>\n",
       "  <tbody>\n",
       "    <tr>\n",
       "      <th>0</th>\n",
       "      <td>Endo_d8bcw7_post</td>\n",
       "      <td>I had a lap on 5/10/19 and my gyno said my bla...</td>\n",
       "      <td>as an ai, i don't have the ability to diagnose...</td>\n",
       "      <td>False</td>\n",
       "      <td>endoR0</td>\n",
       "      <td>no_prompt</td>\n",
       "      <td>endo</td>\n",
       "    </tr>\n",
       "    <tr>\n",
       "      <th>1</th>\n",
       "      <td>Endo_d8bcw7_post</td>\n",
       "      <td>I had a lap on 5/10/19 and my gyno said my bla...</td>\n",
       "      <td>your symptoms of frequent urination, persisten...</td>\n",
       "      <td>False</td>\n",
       "      <td>endoR1</td>\n",
       "      <td>doc_prompt</td>\n",
       "      <td>endo</td>\n",
       "    </tr>\n",
       "    <tr>\n",
       "      <th>2</th>\n",
       "      <td>Endo_d8bcw7_post</td>\n",
       "      <td>I had a lap on 5/10/19 and my gyno said my bla...</td>\n",
       "      <td>yes, it's very possible that the scar tissue o...</td>\n",
       "      <td>False</td>\n",
       "      <td>endoR2</td>\n",
       "      <td>pat_prompt</td>\n",
       "      <td>endo</td>\n",
       "    </tr>\n",
       "    <tr>\n",
       "      <th>3</th>\n",
       "      <td>endometriosis_dn70ay_post</td>\n",
       "      <td>Hello.  Where do I start?  I had bad cramping ...</td>\n",
       "      <td>Error The response was filtered due to the pro...</td>\n",
       "      <td>False</td>\n",
       "      <td>endoR3</td>\n",
       "      <td>no_prompt</td>\n",
       "      <td>endo</td>\n",
       "    </tr>\n",
       "    <tr>\n",
       "      <th>4</th>\n",
       "      <td>endometriosis_dn70ay_post</td>\n",
       "      <td>Hello.  Where do I start?  I had bad cramping ...</td>\n",
       "      <td>Error The response was filtered due to the pro...</td>\n",
       "      <td>False</td>\n",
       "      <td>endoR4</td>\n",
       "      <td>doc_prompt</td>\n",
       "      <td>endo</td>\n",
       "    </tr>\n",
       "  </tbody>\n",
       "</table>\n",
       "</div>"
      ],
      "text/plain": [
       "                 question_id  \\\n",
       "0           Endo_d8bcw7_post   \n",
       "1           Endo_d8bcw7_post   \n",
       "2           Endo_d8bcw7_post   \n",
       "3  endometriosis_dn70ay_post   \n",
       "4  endometriosis_dn70ay_post   \n",
       "\n",
       "                                            question  \\\n",
       "0  I had a lap on 5/10/19 and my gyno said my bla...   \n",
       "1  I had a lap on 5/10/19 and my gyno said my bla...   \n",
       "2  I had a lap on 5/10/19 and my gyno said my bla...   \n",
       "3  Hello.  Where do I start?  I had bad cramping ...   \n",
       "4  Hello.  Where do I start?  I had bad cramping ...   \n",
       "\n",
       "                                            response  Cut off response_id  \\\n",
       "0  as an ai, i don't have the ability to diagnose...    False      endoR0   \n",
       "1  your symptoms of frequent urination, persisten...    False      endoR1   \n",
       "2  yes, it's very possible that the scar tissue o...    False      endoR2   \n",
       "3  Error The response was filtered due to the pro...    False      endoR3   \n",
       "4  Error The response was filtered due to the pro...    False      endoR4   \n",
       "\n",
       "       prompt  type  \n",
       "0   no_prompt  endo  \n",
       "1  doc_prompt  endo  \n",
       "2  pat_prompt  endo  \n",
       "3   no_prompt  endo  \n",
       "4  doc_prompt  endo  "
      ]
     },
     "execution_count": 4,
     "metadata": {},
     "output_type": "execute_result"
    }
   ],
   "source": [
    "main_f = os.path.join(out_dir, 'annotated', f'responses_evaluation_annotator2 - Endometriosis Questions.csv')\n",
    "main_df = pd.read_csv(main_f, header=1, usecols=[0,1,2,7]).iloc[:300]\n",
    "new_ids = check_if_good(main_df['question_id']) \n",
    "main_df['question_id'] = new_ids\n",
    "new_qs = check_if_good(main_df['question']) \n",
    "main_df['question'] = new_qs\n",
    "main_df['response_id'] = [f'endoR{n}' for n in range(0,300)]\n",
    "main_df['prompt'] = prompts\n",
    "main_df['type'] = 'endo'\n",
    "main_df[:5]"
   ]
  },
  {
   "cell_type": "markdown",
   "metadata": {},
   "source": [
    "## How many answers were cutoff?"
   ]
  },
  {
   "cell_type": "code",
   "execution_count": 5,
   "metadata": {},
   "outputs": [
    {
     "name": "stdout",
     "output_type": "stream",
     "text": [
      "Number of cutoff responses with no prompt:  23\n",
      "Number of cutoff responses with doctor prompt:  2\n",
      "Number of cutoff responses with patient prompt:  0\n"
     ]
    }
   ],
   "source": [
    "print('Number of cutoff responses with no prompt: ', len(main_df.loc[(main_df['Cut off'] == True) & (main_df['prompt'] == 'no_prompt')]))\n",
    "print('Number of cutoff responses with doctor prompt: ', len(main_df.loc[(main_df['Cut off'] == True) & (main_df['prompt'] == 'doc_prompt')]))\n",
    "print('Number of cutoff responses with patient prompt: ', len(main_df.loc[(main_df['Cut off'] == True) & main_df['prompt'] == 'pat_prompt']))"
   ]
  },
  {
   "cell_type": "markdown",
   "metadata": {},
   "source": [
    "## How many answers were stigmatizing?"
   ]
  },
  {
   "cell_type": "code",
   "execution_count": 6,
   "metadata": {},
   "outputs": [
    {
     "name": "stdout",
     "output_type": "stream",
     "text": [
      "i'm an ai developed by openai and i can provide information based on general knowledge; however, keep in mind that you should always seek personalized advice from your healthcare provider since every person's case may be different.\n",
      "\n",
      "research suggests lifestyle changes and natural remedies may potentially help to manage ovarian cysts, although the scientific evidence is limited and varies for each method. here are some methods that some people have found helpful:\n",
      "\n",
      "1. **healthy diet**: eating a well-balanced diet rich in fruits, vegetables, lean proteins, and whole grains may support overall health and help manage symptoms.\n",
      "\n",
      "2. **regular exercise:** regular physical activity can help regulate the hormones and promote general well-being.\n",
      "\n",
      "3. **stress management:** some women have found techniques like yoga, meditation, or massage helpful in managing the level of stress, which can influence hormonal balance.\n",
      "\n",
      "4. **maintaining a healthy weight:** too much body fat can cause hormonal changes, so maintaining a healthy weight may help prevent more cysts from forming.\n",
      "\n",
      "5. **avoid caffeine and alcohol:** there are some indications that both caffeine and alcohol can affect the hormonal balance in your body.\n",
      "\n",
      "6. **heat therapy**: applying a heated pad to the pelvic area can relieve muscle tension and reduce pelvic pain.\n",
      "\n",
      "please\n"
     ]
    }
   ],
   "source": [
    "check_f = os.path.join(out_dir, 'annotated', f'responses_evaluation_annotator2 - Endometriosis Questions.csv')\n",
    "check_df = pd.read_csv(check_f, header=1, usecols=[0,1,2,6,7]).iloc[:300]\n",
    "print(check_df[check_df['Stigmatizing'] == True]['response'].values[0])"
   ]
  },
  {
   "cell_type": "markdown",
   "metadata": {},
   "source": [
    "## Questions that raised errors to remove"
   ]
  },
  {
   "cell_type": "code",
   "execution_count": 7,
   "metadata": {},
   "outputs": [
    {
     "data": {
      "text/plain": [
       "[169, 170, 3, 4, 5, 168, 207, 208, 209]"
      ]
     },
     "execution_count": 7,
     "metadata": {},
     "output_type": "execute_result"
    }
   ],
   "source": [
    "error = [169,170]\n",
    "for index, row in main_df.iterrows():\n",
    "    if 'Error' in row['response']:\n",
    "        error.append(index)\n",
    "error"
   ]
  },
  {
   "cell_type": "markdown",
   "metadata": {},
   "source": [
    "## Add patient ratings"
   ]
  },
  {
   "cell_type": "code",
   "execution_count": 8,
   "metadata": {},
   "outputs": [],
   "source": [
    "# annotations_d = main_df.drop(error).drop(columns=['Cut off']).to_dict(orient='records')\n",
    "\n",
    "# for annotator in range(2,4):\n",
    "#     file = os.path.join(out_dir, 'annotated', f'responses_evaluation_annotator{annotator} - Endometriosis Questions.csv')\n",
    "#     df = pd.read_csv(file, header=1, usecols=range(0,7)).iloc[:300]\n",
    "\n",
    "#     for index, row in df.iterrows():\n",
    "#         for response in annotations_d:\n",
    "#             if response['response'] == row['response']:\n",
    "#                 for column in df.columns[3:6]:\n",
    "#                     key = f'Annotator {annotator} - {column}'\n",
    "#                     response[key] = int(row[column][0])"
   ]
  },
  {
   "cell_type": "markdown",
   "metadata": {},
   "source": [
    "## Add physician ratings"
   ]
  },
  {
   "cell_type": "code",
   "execution_count": 9,
   "metadata": {},
   "outputs": [],
   "source": [
    "annotations_d = main_df.drop(error).drop(columns=['Cut off']).to_dict(orient='records')\n",
    "\n",
    "file = os.path.join(out_dir, 'annotated', f'responses_evaluation_annotator1 - Endometriosis Questions.csv')\n",
    "ph_df = pd.read_csv(file, header=1,usecols=range(0,4)).iloc[:301]\n",
    "new_ids = check_if_good(ph_df['question_id']) \n",
    "ph_df['question_id'] = new_ids\n",
    "\n",
    "for index, row in ph_df.iterrows():\n",
    "    for response in annotations_d:\n",
    "        if response['response'] == row['response'] :\n",
    "            for column in ph_df.columns[3:4]:\n",
    "                key = f'Specialist - {column}'\n",
    "                response[key] = int(row[column][0])"
   ]
  },
  {
   "cell_type": "markdown",
   "metadata": {},
   "source": [
    "# General sheet "
   ]
  },
  {
   "cell_type": "code",
   "execution_count": 10,
   "metadata": {},
   "outputs": [
    {
     "data": {
      "text/html": [
       "<div>\n",
       "<style scoped>\n",
       "    .dataframe tbody tr th:only-of-type {\n",
       "        vertical-align: middle;\n",
       "    }\n",
       "\n",
       "    .dataframe tbody tr th {\n",
       "        vertical-align: top;\n",
       "    }\n",
       "\n",
       "    .dataframe thead th {\n",
       "        text-align: right;\n",
       "    }\n",
       "</style>\n",
       "<table border=\"1\" class=\"dataframe\">\n",
       "  <thead>\n",
       "    <tr style=\"text-align: right;\">\n",
       "      <th></th>\n",
       "      <th>question_id</th>\n",
       "      <th>question</th>\n",
       "      <th>response</th>\n",
       "      <th>Cut off</th>\n",
       "      <th>response_id</th>\n",
       "      <th>prompt</th>\n",
       "      <th>type</th>\n",
       "    </tr>\n",
       "  </thead>\n",
       "  <tbody>\n",
       "    <tr>\n",
       "      <th>0</th>\n",
       "      <td>N2</td>\n",
       "      <td>28F, ex smoker, no drinking, 5'3\", 200lbs. Its...</td>\n",
       "      <td>it could be due to several things such as musc...</td>\n",
       "      <td>False</td>\n",
       "      <td>genR0</td>\n",
       "      <td>no_prompt</td>\n",
       "      <td>general</td>\n",
       "    </tr>\n",
       "    <tr>\n",
       "      <th>1</th>\n",
       "      <td>N3</td>\n",
       "      <td>3M, average height and weight, white, no medic...</td>\n",
       "      <td>as an ai model, i can't physically see or diag...</td>\n",
       "      <td>True</td>\n",
       "      <td>genR1</td>\n",
       "      <td>no_prompt</td>\n",
       "      <td>general</td>\n",
       "    </tr>\n",
       "    <tr>\n",
       "      <th>2</th>\n",
       "      <td>N5</td>\n",
       "      <td>I have health anxiety and just a bunch of anxi...</td>\n",
       "      <td>i'm an ai developed by openai and not a profes...</td>\n",
       "      <td>False</td>\n",
       "      <td>genR2</td>\n",
       "      <td>no_prompt</td>\n",
       "      <td>general</td>\n",
       "    </tr>\n",
       "    <tr>\n",
       "      <th>3</th>\n",
       "      <td>N6</td>\n",
       "      <td>If I feel heart flutters about once a day, and...</td>\n",
       "      <td>many people experience occasional heart palpit...</td>\n",
       "      <td>True</td>\n",
       "      <td>genR3</td>\n",
       "      <td>no_prompt</td>\n",
       "      <td>general</td>\n",
       "    </tr>\n",
       "    <tr>\n",
       "      <th>4</th>\n",
       "      <td>N7</td>\n",
       "      <td>39M.  260 lbs.  Eastern-European ancestry.  I'...</td>\n",
       "      <td>while the presence of hair in the ear canal mi...</td>\n",
       "      <td>False</td>\n",
       "      <td>genR4</td>\n",
       "      <td>no_prompt</td>\n",
       "      <td>general</td>\n",
       "    </tr>\n",
       "  </tbody>\n",
       "</table>\n",
       "</div>"
      ],
      "text/plain": [
       "  question_id                                           question  \\\n",
       "0          N2  28F, ex smoker, no drinking, 5'3\", 200lbs. Its...   \n",
       "1          N3  3M, average height and weight, white, no medic...   \n",
       "2          N5  I have health anxiety and just a bunch of anxi...   \n",
       "3          N6  If I feel heart flutters about once a day, and...   \n",
       "4          N7  39M.  260 lbs.  Eastern-European ancestry.  I'...   \n",
       "\n",
       "                                            response  Cut off response_id  \\\n",
       "0  it could be due to several things such as musc...    False       genR0   \n",
       "1  as an ai model, i can't physically see or diag...     True       genR1   \n",
       "2  i'm an ai developed by openai and not a profes...    False       genR2   \n",
       "3  many people experience occasional heart palpit...     True       genR3   \n",
       "4  while the presence of hair in the ear canal mi...    False       genR4   \n",
       "\n",
       "      prompt     type  \n",
       "0  no_prompt  general  \n",
       "1  no_prompt  general  \n",
       "2  no_prompt  general  \n",
       "3  no_prompt  general  \n",
       "4  no_prompt  general  "
      ]
     },
     "execution_count": 10,
     "metadata": {},
     "output_type": "execute_result"
    }
   ],
   "source": [
    "gen_f = os.path.join(out_dir, 'annotated', f'responses_evaluation_annotator2 - General Questions.csv')\n",
    "gen_df = pd.read_csv(gen_f, header=1, usecols=[0,1,2,6]).iloc[:100]\n",
    "gen_df['response_id'] = [f'genR{n}' for n in range(0,100)]\n",
    "gen_df['prompt'] = 'no_prompt'\n",
    "gen_df['type'] = 'general'\n",
    "gen_df[:5]"
   ]
  },
  {
   "cell_type": "markdown",
   "metadata": {},
   "source": [
    "## Questions that raised errors to remove"
   ]
  },
  {
   "cell_type": "code",
   "execution_count": 11,
   "metadata": {},
   "outputs": [
    {
     "data": {
      "text/plain": [
       "[16, 75, 79]"
      ]
     },
     "execution_count": 11,
     "metadata": {},
     "output_type": "execute_result"
    }
   ],
   "source": [
    "error_gen = []\n",
    "for index, row in gen_df.iterrows():\n",
    "    if 'Error' in row['response']:\n",
    "        error_gen.append(index)\n",
    "error_gen"
   ]
  },
  {
   "cell_type": "markdown",
   "metadata": {},
   "source": [
    "## Add patient ratings"
   ]
  },
  {
   "cell_type": "code",
   "execution_count": 12,
   "metadata": {},
   "outputs": [],
   "source": [
    "# general_d = gen_df.drop(error_gen).drop(columns=['Cut off']).to_dict(orient='records')\n",
    "\n",
    "# for annotator in range(2,4):\n",
    "#     file = os.path.join(out_dir, 'annotated', f'responses_evaluation_annotator{annotator} - General Questions.csv')\n",
    "#     df = pd.read_csv(file, header=1, usecols=range(0,7)).iloc[:100]\n",
    "\n",
    "#     for index, row in df.iterrows():\n",
    "#         for response in general_d:\n",
    "#             if response['response'] == row['response']:\n",
    "#                 for column in df.columns[3:6]:\n",
    "#                     key = f'Annotator {annotator} - {column}'\n",
    "#                     response[key] = int(row[column][0])"
   ]
  },
  {
   "cell_type": "markdown",
   "metadata": {},
   "source": [
    "## Add physician ratings"
   ]
  },
  {
   "cell_type": "code",
   "execution_count": 13,
   "metadata": {},
   "outputs": [],
   "source": [
    "general_d = gen_df.drop(error_gen).drop(columns=['Cut off']).to_dict(orient='records')\n",
    "\n",
    "for annotator in range(2,4):\n",
    "    file = os.path.join(out_dir, 'annotated', f'responses_evaluation_annotator1 - General Questions.csv')\n",
    "    df = pd.read_csv(file, header=1, usecols=range(0,4)).iloc[:100]\n",
    "\n",
    "    for index, row in df.iterrows():\n",
    "        for response in general_d:\n",
    "            if response['response'] == row['response']:\n",
    "                for column in df.columns[3:4]:\n",
    "                    key = f'Specialist - {column}'\n",
    "                    response[key] = int(row[column][0])\n",
    "                            \n",
    "\n"
   ]
  },
  {
   "cell_type": "code",
   "execution_count": 14,
   "metadata": {},
   "outputs": [
    {
     "data": {
      "text/plain": [
       "388"
      ]
     },
     "execution_count": 14,
     "metadata": {},
     "output_type": "execute_result"
    }
   ],
   "source": [
    "all_d = annotations_d+general_d\n",
    "len(all_d)"
   ]
  },
  {
   "cell_type": "code",
   "execution_count": 15,
   "metadata": {},
   "outputs": [
    {
     "name": "stdout",
     "output_type": "stream",
     "text": [
      "388\n"
     ]
    },
    {
     "data": {
      "text/html": [
       "<div>\n",
       "<style scoped>\n",
       "    .dataframe tbody tr th:only-of-type {\n",
       "        vertical-align: middle;\n",
       "    }\n",
       "\n",
       "    .dataframe tbody tr th {\n",
       "        vertical-align: top;\n",
       "    }\n",
       "\n",
       "    .dataframe thead th {\n",
       "        text-align: right;\n",
       "    }\n",
       "</style>\n",
       "<table border=\"1\" class=\"dataframe\">\n",
       "  <thead>\n",
       "    <tr style=\"text-align: right;\">\n",
       "      <th></th>\n",
       "      <th>question_id</th>\n",
       "      <th>question</th>\n",
       "      <th>response</th>\n",
       "      <th>response_id</th>\n",
       "      <th>prompt</th>\n",
       "      <th>type</th>\n",
       "      <th>Specialist - Information Quality</th>\n",
       "    </tr>\n",
       "  </thead>\n",
       "  <tbody>\n",
       "    <tr>\n",
       "      <th>325</th>\n",
       "      <td>N56</td>\n",
       "      <td>26F, 177cm, 55kg, White. I noticed this bump b...</td>\n",
       "      <td>as an ai developed by openai, i'm not capable ...</td>\n",
       "      <td>genR35</td>\n",
       "      <td>no_prompt</td>\n",
       "      <td>general</td>\n",
       "      <td>5</td>\n",
       "    </tr>\n",
       "    <tr>\n",
       "      <th>326</th>\n",
       "      <td>N57</td>\n",
       "      <td>26 year old male 5‰Ûª8 feet 145 pounds \\n\\n\\nI...</td>\n",
       "      <td>i'm an artificial intelligence and not a docto...</td>\n",
       "      <td>genR36</td>\n",
       "      <td>no_prompt</td>\n",
       "      <td>general</td>\n",
       "      <td>3</td>\n",
       "    </tr>\n",
       "    <tr>\n",
       "      <th>327</th>\n",
       "      <td>N59</td>\n",
       "      <td>please.. is this concerning\\n\\nShould I be con...</td>\n",
       "      <td>i'm an ai language model, not a doctor, but i ...</td>\n",
       "      <td>genR37</td>\n",
       "      <td>no_prompt</td>\n",
       "      <td>general</td>\n",
       "      <td>2</td>\n",
       "    </tr>\n",
       "    <tr>\n",
       "      <th>328</th>\n",
       "      <td>N60</td>\n",
       "      <td>I see that this post might be a lot less extre...</td>\n",
       "      <td>you should consider investing in a finger spli...</td>\n",
       "      <td>genR38</td>\n",
       "      <td>no_prompt</td>\n",
       "      <td>general</td>\n",
       "      <td>3</td>\n",
       "    </tr>\n",
       "    <tr>\n",
       "      <th>329</th>\n",
       "      <td>N61</td>\n",
       "      <td>22F, 5‰Ûª6‰Û�,207lbs, caucausian. One time eve...</td>\n",
       "      <td>i'm an ai and not a doctor, but these symptoms...</td>\n",
       "      <td>genR39</td>\n",
       "      <td>no_prompt</td>\n",
       "      <td>general</td>\n",
       "      <td>2</td>\n",
       "    </tr>\n",
       "  </tbody>\n",
       "</table>\n",
       "</div>"
      ],
      "text/plain": [
       "    question_id                                           question  \\\n",
       "325         N56  26F, 177cm, 55kg, White. I noticed this bump b...   \n",
       "326         N57  26 year old male 5‰Ûª8 feet 145 pounds \\n\\n\\nI...   \n",
       "327         N59  please.. is this concerning\\n\\nShould I be con...   \n",
       "328         N60  I see that this post might be a lot less extre...   \n",
       "329         N61  22F, 5‰Ûª6‰Û�,207lbs, caucausian. One time eve...   \n",
       "\n",
       "                                              response response_id     prompt  \\\n",
       "325  as an ai developed by openai, i'm not capable ...      genR35  no_prompt   \n",
       "326  i'm an artificial intelligence and not a docto...      genR36  no_prompt   \n",
       "327  i'm an ai language model, not a doctor, but i ...      genR37  no_prompt   \n",
       "328  you should consider investing in a finger spli...      genR38  no_prompt   \n",
       "329  i'm an ai and not a doctor, but these symptoms...      genR39  no_prompt   \n",
       "\n",
       "        type  Specialist - Information Quality  \n",
       "325  general                                 5  \n",
       "326  general                                 3  \n",
       "327  general                                 2  \n",
       "328  general                                 3  \n",
       "329  general                                 2  "
      ]
     },
     "execution_count": 15,
     "metadata": {},
     "output_type": "execute_result"
    }
   ],
   "source": [
    "annotations_df = pd.DataFrame(all_d)\n",
    "print(len(annotations_df))\n",
    "annotations_df[325:330]"
   ]
  },
  {
   "cell_type": "code",
   "execution_count": 16,
   "metadata": {},
   "outputs": [],
   "source": [
    "# annotations_df.to_csv(os.path.join(out_dir, 'patient_annotations.csv'))\n",
    "annotations_df.to_csv(os.path.join(out_dir, 'specialist_annotations.csv'))"
   ]
  },
  {
   "cell_type": "code",
   "execution_count": null,
   "metadata": {},
   "outputs": [],
   "source": []
  },
  {
   "cell_type": "code",
   "execution_count": null,
   "metadata": {},
   "outputs": [],
   "source": []
  }
 ],
 "metadata": {
  "kernelspec": {
   "display_name": "nlp",
   "language": "python",
   "name": "python3"
  },
  "language_info": {
   "codemirror_mode": {
    "name": "ipython",
    "version": 3
   },
   "file_extension": ".py",
   "mimetype": "text/x-python",
   "name": "python",
   "nbconvert_exporter": "python",
   "pygments_lexer": "ipython3",
   "version": "3.10.9"
  }
 },
 "nbformat": 4,
 "nbformat_minor": 2
}
